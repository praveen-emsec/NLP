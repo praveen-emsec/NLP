{
  "nbformat": 4,
  "nbformat_minor": 0,
  "metadata": {
    "colab": {
      "provenance": []
    },
    "kernelspec": {
      "name": "python3",
      "display_name": "Python 3"
    },
    "language_info": {
      "name": "python"
    },
    "widgets": {
      "application/vnd.jupyter.widget-state+json": {
        "ac1b336149c640948e8e70bacf3a3c93": {
          "model_module": "@jupyter-widgets/controls",
          "model_name": "HBoxModel",
          "model_module_version": "1.5.0",
          "state": {
            "_dom_classes": [],
            "_model_module": "@jupyter-widgets/controls",
            "_model_module_version": "1.5.0",
            "_model_name": "HBoxModel",
            "_view_count": null,
            "_view_module": "@jupyter-widgets/controls",
            "_view_module_version": "1.5.0",
            "_view_name": "HBoxView",
            "box_style": "",
            "children": [
              "IPY_MODEL_f46d138e12544026bcfb981ab6b0c3c2",
              "IPY_MODEL_62c0154dffd74a4fa5016e37268a400c",
              "IPY_MODEL_70742c0f0a034f1b8cd5a4079f7b39a7"
            ],
            "layout": "IPY_MODEL_a240f27a44b24e14b1d2346b88aa04a6"
          }
        },
        "f46d138e12544026bcfb981ab6b0c3c2": {
          "model_module": "@jupyter-widgets/controls",
          "model_name": "HTMLModel",
          "model_module_version": "1.5.0",
          "state": {
            "_dom_classes": [],
            "_model_module": "@jupyter-widgets/controls",
            "_model_module_version": "1.5.0",
            "_model_name": "HTMLModel",
            "_view_count": null,
            "_view_module": "@jupyter-widgets/controls",
            "_view_module_version": "1.5.0",
            "_view_name": "HTMLView",
            "description": "",
            "description_tooltip": null,
            "layout": "IPY_MODEL_41d688245fc34ce29922072a0cdc7656",
            "placeholder": "​",
            "style": "IPY_MODEL_4e74c5cd9af24dd68295b2f340e668ac",
            "value": "100%"
          }
        },
        "62c0154dffd74a4fa5016e37268a400c": {
          "model_module": "@jupyter-widgets/controls",
          "model_name": "FloatProgressModel",
          "model_module_version": "1.5.0",
          "state": {
            "_dom_classes": [],
            "_model_module": "@jupyter-widgets/controls",
            "_model_module_version": "1.5.0",
            "_model_name": "FloatProgressModel",
            "_view_count": null,
            "_view_module": "@jupyter-widgets/controls",
            "_view_module_version": "1.5.0",
            "_view_name": "ProgressView",
            "bar_style": "success",
            "description": "",
            "description_tooltip": null,
            "layout": "IPY_MODEL_f245b80be912464380367f4ffb6f4edd",
            "max": 10,
            "min": 0,
            "orientation": "horizontal",
            "style": "IPY_MODEL_ceba6053c907419a8e870b16f8f5df50",
            "value": 10
          }
        },
        "70742c0f0a034f1b8cd5a4079f7b39a7": {
          "model_module": "@jupyter-widgets/controls",
          "model_name": "HTMLModel",
          "model_module_version": "1.5.0",
          "state": {
            "_dom_classes": [],
            "_model_module": "@jupyter-widgets/controls",
            "_model_module_version": "1.5.0",
            "_model_name": "HTMLModel",
            "_view_count": null,
            "_view_module": "@jupyter-widgets/controls",
            "_view_module_version": "1.5.0",
            "_view_name": "HTMLView",
            "description": "",
            "description_tooltip": null,
            "layout": "IPY_MODEL_c53b394908cf4e91b7c3e3b809691756",
            "placeholder": "​",
            "style": "IPY_MODEL_5cc02dd9fcfd44549a015f31c3caeeef",
            "value": " 10/10 [00:00&lt;00:00, 131.24ex/s]"
          }
        },
        "a240f27a44b24e14b1d2346b88aa04a6": {
          "model_module": "@jupyter-widgets/base",
          "model_name": "LayoutModel",
          "model_module_version": "1.2.0",
          "state": {
            "_model_module": "@jupyter-widgets/base",
            "_model_module_version": "1.2.0",
            "_model_name": "LayoutModel",
            "_view_count": null,
            "_view_module": "@jupyter-widgets/base",
            "_view_module_version": "1.2.0",
            "_view_name": "LayoutView",
            "align_content": null,
            "align_items": null,
            "align_self": null,
            "border": null,
            "bottom": null,
            "display": null,
            "flex": null,
            "flex_flow": null,
            "grid_area": null,
            "grid_auto_columns": null,
            "grid_auto_flow": null,
            "grid_auto_rows": null,
            "grid_column": null,
            "grid_gap": null,
            "grid_row": null,
            "grid_template_areas": null,
            "grid_template_columns": null,
            "grid_template_rows": null,
            "height": null,
            "justify_content": null,
            "justify_items": null,
            "left": null,
            "margin": null,
            "max_height": null,
            "max_width": null,
            "min_height": null,
            "min_width": null,
            "object_fit": null,
            "object_position": null,
            "order": null,
            "overflow": null,
            "overflow_x": null,
            "overflow_y": null,
            "padding": null,
            "right": null,
            "top": null,
            "visibility": null,
            "width": null
          }
        },
        "41d688245fc34ce29922072a0cdc7656": {
          "model_module": "@jupyter-widgets/base",
          "model_name": "LayoutModel",
          "model_module_version": "1.2.0",
          "state": {
            "_model_module": "@jupyter-widgets/base",
            "_model_module_version": "1.2.0",
            "_model_name": "LayoutModel",
            "_view_count": null,
            "_view_module": "@jupyter-widgets/base",
            "_view_module_version": "1.2.0",
            "_view_name": "LayoutView",
            "align_content": null,
            "align_items": null,
            "align_self": null,
            "border": null,
            "bottom": null,
            "display": null,
            "flex": null,
            "flex_flow": null,
            "grid_area": null,
            "grid_auto_columns": null,
            "grid_auto_flow": null,
            "grid_auto_rows": null,
            "grid_column": null,
            "grid_gap": null,
            "grid_row": null,
            "grid_template_areas": null,
            "grid_template_columns": null,
            "grid_template_rows": null,
            "height": null,
            "justify_content": null,
            "justify_items": null,
            "left": null,
            "margin": null,
            "max_height": null,
            "max_width": null,
            "min_height": null,
            "min_width": null,
            "object_fit": null,
            "object_position": null,
            "order": null,
            "overflow": null,
            "overflow_x": null,
            "overflow_y": null,
            "padding": null,
            "right": null,
            "top": null,
            "visibility": null,
            "width": null
          }
        },
        "4e74c5cd9af24dd68295b2f340e668ac": {
          "model_module": "@jupyter-widgets/controls",
          "model_name": "DescriptionStyleModel",
          "model_module_version": "1.5.0",
          "state": {
            "_model_module": "@jupyter-widgets/controls",
            "_model_module_version": "1.5.0",
            "_model_name": "DescriptionStyleModel",
            "_view_count": null,
            "_view_module": "@jupyter-widgets/base",
            "_view_module_version": "1.2.0",
            "_view_name": "StyleView",
            "description_width": ""
          }
        },
        "f245b80be912464380367f4ffb6f4edd": {
          "model_module": "@jupyter-widgets/base",
          "model_name": "LayoutModel",
          "model_module_version": "1.2.0",
          "state": {
            "_model_module": "@jupyter-widgets/base",
            "_model_module_version": "1.2.0",
            "_model_name": "LayoutModel",
            "_view_count": null,
            "_view_module": "@jupyter-widgets/base",
            "_view_module_version": "1.2.0",
            "_view_name": "LayoutView",
            "align_content": null,
            "align_items": null,
            "align_self": null,
            "border": null,
            "bottom": null,
            "display": null,
            "flex": null,
            "flex_flow": null,
            "grid_area": null,
            "grid_auto_columns": null,
            "grid_auto_flow": null,
            "grid_auto_rows": null,
            "grid_column": null,
            "grid_gap": null,
            "grid_row": null,
            "grid_template_areas": null,
            "grid_template_columns": null,
            "grid_template_rows": null,
            "height": null,
            "justify_content": null,
            "justify_items": null,
            "left": null,
            "margin": null,
            "max_height": null,
            "max_width": null,
            "min_height": null,
            "min_width": null,
            "object_fit": null,
            "object_position": null,
            "order": null,
            "overflow": null,
            "overflow_x": null,
            "overflow_y": null,
            "padding": null,
            "right": null,
            "top": null,
            "visibility": null,
            "width": null
          }
        },
        "ceba6053c907419a8e870b16f8f5df50": {
          "model_module": "@jupyter-widgets/controls",
          "model_name": "ProgressStyleModel",
          "model_module_version": "1.5.0",
          "state": {
            "_model_module": "@jupyter-widgets/controls",
            "_model_module_version": "1.5.0",
            "_model_name": "ProgressStyleModel",
            "_view_count": null,
            "_view_module": "@jupyter-widgets/base",
            "_view_module_version": "1.2.0",
            "_view_name": "StyleView",
            "bar_color": null,
            "description_width": ""
          }
        },
        "c53b394908cf4e91b7c3e3b809691756": {
          "model_module": "@jupyter-widgets/base",
          "model_name": "LayoutModel",
          "model_module_version": "1.2.0",
          "state": {
            "_model_module": "@jupyter-widgets/base",
            "_model_module_version": "1.2.0",
            "_model_name": "LayoutModel",
            "_view_count": null,
            "_view_module": "@jupyter-widgets/base",
            "_view_module_version": "1.2.0",
            "_view_name": "LayoutView",
            "align_content": null,
            "align_items": null,
            "align_self": null,
            "border": null,
            "bottom": null,
            "display": null,
            "flex": null,
            "flex_flow": null,
            "grid_area": null,
            "grid_auto_columns": null,
            "grid_auto_flow": null,
            "grid_auto_rows": null,
            "grid_column": null,
            "grid_gap": null,
            "grid_row": null,
            "grid_template_areas": null,
            "grid_template_columns": null,
            "grid_template_rows": null,
            "height": null,
            "justify_content": null,
            "justify_items": null,
            "left": null,
            "margin": null,
            "max_height": null,
            "max_width": null,
            "min_height": null,
            "min_width": null,
            "object_fit": null,
            "object_position": null,
            "order": null,
            "overflow": null,
            "overflow_x": null,
            "overflow_y": null,
            "padding": null,
            "right": null,
            "top": null,
            "visibility": null,
            "width": null
          }
        },
        "5cc02dd9fcfd44549a015f31c3caeeef": {
          "model_module": "@jupyter-widgets/controls",
          "model_name": "DescriptionStyleModel",
          "model_module_version": "1.5.0",
          "state": {
            "_model_module": "@jupyter-widgets/controls",
            "_model_module_version": "1.5.0",
            "_model_name": "DescriptionStyleModel",
            "_view_count": null,
            "_view_module": "@jupyter-widgets/base",
            "_view_module_version": "1.2.0",
            "_view_name": "StyleView",
            "description_width": ""
          }
        },
        "aa8d24b6694b458eae71225d6fb3ddaa": {
          "model_module": "@jupyter-widgets/controls",
          "model_name": "HBoxModel",
          "model_module_version": "1.5.0",
          "state": {
            "_dom_classes": [],
            "_model_module": "@jupyter-widgets/controls",
            "_model_module_version": "1.5.0",
            "_model_name": "HBoxModel",
            "_view_count": null,
            "_view_module": "@jupyter-widgets/controls",
            "_view_module_version": "1.5.0",
            "_view_name": "HBoxView",
            "box_style": "",
            "children": [
              "IPY_MODEL_fc2b4a5de76b4a1a9554441a5d3a89d5",
              "IPY_MODEL_7e33763b980d4f77bdf6445e429a9829",
              "IPY_MODEL_3437af6ce40f4a32ad8084cd00ed5300"
            ],
            "layout": "IPY_MODEL_b6108aed92c44f65986797419026a512"
          }
        },
        "fc2b4a5de76b4a1a9554441a5d3a89d5": {
          "model_module": "@jupyter-widgets/controls",
          "model_name": "HTMLModel",
          "model_module_version": "1.5.0",
          "state": {
            "_dom_classes": [],
            "_model_module": "@jupyter-widgets/controls",
            "_model_module_version": "1.5.0",
            "_model_name": "HTMLModel",
            "_view_count": null,
            "_view_module": "@jupyter-widgets/controls",
            "_view_module_version": "1.5.0",
            "_view_name": "HTMLView",
            "description": "",
            "description_tooltip": null,
            "layout": "IPY_MODEL_3fcde5c521df4f14870fce086dae4c01",
            "placeholder": "​",
            "style": "IPY_MODEL_b3ddb2c36fa0443197c00c4d3715e0b0",
            "value": "100%"
          }
        },
        "7e33763b980d4f77bdf6445e429a9829": {
          "model_module": "@jupyter-widgets/controls",
          "model_name": "FloatProgressModel",
          "model_module_version": "1.5.0",
          "state": {
            "_dom_classes": [],
            "_model_module": "@jupyter-widgets/controls",
            "_model_module_version": "1.5.0",
            "_model_name": "FloatProgressModel",
            "_view_count": null,
            "_view_module": "@jupyter-widgets/controls",
            "_view_module_version": "1.5.0",
            "_view_name": "ProgressView",
            "bar_style": "success",
            "description": "",
            "description_tooltip": null,
            "layout": "IPY_MODEL_584c0806f219455789eb4e6a56ac35f4",
            "max": 10,
            "min": 0,
            "orientation": "horizontal",
            "style": "IPY_MODEL_2901154c846847819576c5ed6174b9c1",
            "value": 10
          }
        },
        "3437af6ce40f4a32ad8084cd00ed5300": {
          "model_module": "@jupyter-widgets/controls",
          "model_name": "HTMLModel",
          "model_module_version": "1.5.0",
          "state": {
            "_dom_classes": [],
            "_model_module": "@jupyter-widgets/controls",
            "_model_module_version": "1.5.0",
            "_model_name": "HTMLModel",
            "_view_count": null,
            "_view_module": "@jupyter-widgets/controls",
            "_view_module_version": "1.5.0",
            "_view_name": "HTMLView",
            "description": "",
            "description_tooltip": null,
            "layout": "IPY_MODEL_2d2b587fa5ae4f5ca78f28b5bfe5d740",
            "placeholder": "​",
            "style": "IPY_MODEL_494efdd292c34c41bb92844b2e004465",
            "value": " 10/10 [00:05&lt;00:00,  1.90ex/s]"
          }
        },
        "b6108aed92c44f65986797419026a512": {
          "model_module": "@jupyter-widgets/base",
          "model_name": "LayoutModel",
          "model_module_version": "1.2.0",
          "state": {
            "_model_module": "@jupyter-widgets/base",
            "_model_module_version": "1.2.0",
            "_model_name": "LayoutModel",
            "_view_count": null,
            "_view_module": "@jupyter-widgets/base",
            "_view_module_version": "1.2.0",
            "_view_name": "LayoutView",
            "align_content": null,
            "align_items": null,
            "align_self": null,
            "border": null,
            "bottom": null,
            "display": null,
            "flex": null,
            "flex_flow": null,
            "grid_area": null,
            "grid_auto_columns": null,
            "grid_auto_flow": null,
            "grid_auto_rows": null,
            "grid_column": null,
            "grid_gap": null,
            "grid_row": null,
            "grid_template_areas": null,
            "grid_template_columns": null,
            "grid_template_rows": null,
            "height": null,
            "justify_content": null,
            "justify_items": null,
            "left": null,
            "margin": null,
            "max_height": null,
            "max_width": null,
            "min_height": null,
            "min_width": null,
            "object_fit": null,
            "object_position": null,
            "order": null,
            "overflow": null,
            "overflow_x": null,
            "overflow_y": null,
            "padding": null,
            "right": null,
            "top": null,
            "visibility": null,
            "width": null
          }
        },
        "3fcde5c521df4f14870fce086dae4c01": {
          "model_module": "@jupyter-widgets/base",
          "model_name": "LayoutModel",
          "model_module_version": "1.2.0",
          "state": {
            "_model_module": "@jupyter-widgets/base",
            "_model_module_version": "1.2.0",
            "_model_name": "LayoutModel",
            "_view_count": null,
            "_view_module": "@jupyter-widgets/base",
            "_view_module_version": "1.2.0",
            "_view_name": "LayoutView",
            "align_content": null,
            "align_items": null,
            "align_self": null,
            "border": null,
            "bottom": null,
            "display": null,
            "flex": null,
            "flex_flow": null,
            "grid_area": null,
            "grid_auto_columns": null,
            "grid_auto_flow": null,
            "grid_auto_rows": null,
            "grid_column": null,
            "grid_gap": null,
            "grid_row": null,
            "grid_template_areas": null,
            "grid_template_columns": null,
            "grid_template_rows": null,
            "height": null,
            "justify_content": null,
            "justify_items": null,
            "left": null,
            "margin": null,
            "max_height": null,
            "max_width": null,
            "min_height": null,
            "min_width": null,
            "object_fit": null,
            "object_position": null,
            "order": null,
            "overflow": null,
            "overflow_x": null,
            "overflow_y": null,
            "padding": null,
            "right": null,
            "top": null,
            "visibility": null,
            "width": null
          }
        },
        "b3ddb2c36fa0443197c00c4d3715e0b0": {
          "model_module": "@jupyter-widgets/controls",
          "model_name": "DescriptionStyleModel",
          "model_module_version": "1.5.0",
          "state": {
            "_model_module": "@jupyter-widgets/controls",
            "_model_module_version": "1.5.0",
            "_model_name": "DescriptionStyleModel",
            "_view_count": null,
            "_view_module": "@jupyter-widgets/base",
            "_view_module_version": "1.2.0",
            "_view_name": "StyleView",
            "description_width": ""
          }
        },
        "584c0806f219455789eb4e6a56ac35f4": {
          "model_module": "@jupyter-widgets/base",
          "model_name": "LayoutModel",
          "model_module_version": "1.2.0",
          "state": {
            "_model_module": "@jupyter-widgets/base",
            "_model_module_version": "1.2.0",
            "_model_name": "LayoutModel",
            "_view_count": null,
            "_view_module": "@jupyter-widgets/base",
            "_view_module_version": "1.2.0",
            "_view_name": "LayoutView",
            "align_content": null,
            "align_items": null,
            "align_self": null,
            "border": null,
            "bottom": null,
            "display": null,
            "flex": null,
            "flex_flow": null,
            "grid_area": null,
            "grid_auto_columns": null,
            "grid_auto_flow": null,
            "grid_auto_rows": null,
            "grid_column": null,
            "grid_gap": null,
            "grid_row": null,
            "grid_template_areas": null,
            "grid_template_columns": null,
            "grid_template_rows": null,
            "height": null,
            "justify_content": null,
            "justify_items": null,
            "left": null,
            "margin": null,
            "max_height": null,
            "max_width": null,
            "min_height": null,
            "min_width": null,
            "object_fit": null,
            "object_position": null,
            "order": null,
            "overflow": null,
            "overflow_x": null,
            "overflow_y": null,
            "padding": null,
            "right": null,
            "top": null,
            "visibility": null,
            "width": null
          }
        },
        "2901154c846847819576c5ed6174b9c1": {
          "model_module": "@jupyter-widgets/controls",
          "model_name": "ProgressStyleModel",
          "model_module_version": "1.5.0",
          "state": {
            "_model_module": "@jupyter-widgets/controls",
            "_model_module_version": "1.5.0",
            "_model_name": "ProgressStyleModel",
            "_view_count": null,
            "_view_module": "@jupyter-widgets/base",
            "_view_module_version": "1.2.0",
            "_view_name": "StyleView",
            "bar_color": null,
            "description_width": ""
          }
        },
        "2d2b587fa5ae4f5ca78f28b5bfe5d740": {
          "model_module": "@jupyter-widgets/base",
          "model_name": "LayoutModel",
          "model_module_version": "1.2.0",
          "state": {
            "_model_module": "@jupyter-widgets/base",
            "_model_module_version": "1.2.0",
            "_model_name": "LayoutModel",
            "_view_count": null,
            "_view_module": "@jupyter-widgets/base",
            "_view_module_version": "1.2.0",
            "_view_name": "LayoutView",
            "align_content": null,
            "align_items": null,
            "align_self": null,
            "border": null,
            "bottom": null,
            "display": null,
            "flex": null,
            "flex_flow": null,
            "grid_area": null,
            "grid_auto_columns": null,
            "grid_auto_flow": null,
            "grid_auto_rows": null,
            "grid_column": null,
            "grid_gap": null,
            "grid_row": null,
            "grid_template_areas": null,
            "grid_template_columns": null,
            "grid_template_rows": null,
            "height": null,
            "justify_content": null,
            "justify_items": null,
            "left": null,
            "margin": null,
            "max_height": null,
            "max_width": null,
            "min_height": null,
            "min_width": null,
            "object_fit": null,
            "object_position": null,
            "order": null,
            "overflow": null,
            "overflow_x": null,
            "overflow_y": null,
            "padding": null,
            "right": null,
            "top": null,
            "visibility": null,
            "width": null
          }
        },
        "494efdd292c34c41bb92844b2e004465": {
          "model_module": "@jupyter-widgets/controls",
          "model_name": "DescriptionStyleModel",
          "model_module_version": "1.5.0",
          "state": {
            "_model_module": "@jupyter-widgets/controls",
            "_model_module_version": "1.5.0",
            "_model_name": "DescriptionStyleModel",
            "_view_count": null,
            "_view_module": "@jupyter-widgets/base",
            "_view_module_version": "1.2.0",
            "_view_name": "StyleView",
            "description_width": ""
          }
        },
        "9061c09f85ae40a3a970029da20b927a": {
          "model_module": "@jupyter-widgets/controls",
          "model_name": "HBoxModel",
          "model_module_version": "1.5.0",
          "state": {
            "_dom_classes": [],
            "_model_module": "@jupyter-widgets/controls",
            "_model_module_version": "1.5.0",
            "_model_name": "HBoxModel",
            "_view_count": null,
            "_view_module": "@jupyter-widgets/controls",
            "_view_module_version": "1.5.0",
            "_view_name": "HBoxView",
            "box_style": "",
            "children": [
              "IPY_MODEL_dfff3cf8a23f42f08bb7a1470500db97",
              "IPY_MODEL_f860119bfdf34264948a339c661afad0",
              "IPY_MODEL_c8caa71b69f5427891c0d82a8d090b44"
            ],
            "layout": "IPY_MODEL_ccf36c9fc8074b94a9884e7d12869dd3"
          }
        },
        "dfff3cf8a23f42f08bb7a1470500db97": {
          "model_module": "@jupyter-widgets/controls",
          "model_name": "HTMLModel",
          "model_module_version": "1.5.0",
          "state": {
            "_dom_classes": [],
            "_model_module": "@jupyter-widgets/controls",
            "_model_module_version": "1.5.0",
            "_model_name": "HTMLModel",
            "_view_count": null,
            "_view_module": "@jupyter-widgets/controls",
            "_view_module_version": "1.5.0",
            "_view_name": "HTMLView",
            "description": "",
            "description_tooltip": null,
            "layout": "IPY_MODEL_6f5351fc5ff44c8cb9f8437192f95f17",
            "placeholder": "​",
            "style": "IPY_MODEL_63518df6513948d0a083a37e2c8c7435",
            "value": "100%"
          }
        },
        "f860119bfdf34264948a339c661afad0": {
          "model_module": "@jupyter-widgets/controls",
          "model_name": "FloatProgressModel",
          "model_module_version": "1.5.0",
          "state": {
            "_dom_classes": [],
            "_model_module": "@jupyter-widgets/controls",
            "_model_module_version": "1.5.0",
            "_model_name": "FloatProgressModel",
            "_view_count": null,
            "_view_module": "@jupyter-widgets/controls",
            "_view_module_version": "1.5.0",
            "_view_name": "ProgressView",
            "bar_style": "success",
            "description": "",
            "description_tooltip": null,
            "layout": "IPY_MODEL_ad43683e7447494d9183ebd463d85233",
            "max": 1,
            "min": 0,
            "orientation": "horizontal",
            "style": "IPY_MODEL_ad8003f1ad3a496ead6c109ab78e0f53",
            "value": 1
          }
        },
        "c8caa71b69f5427891c0d82a8d090b44": {
          "model_module": "@jupyter-widgets/controls",
          "model_name": "HTMLModel",
          "model_module_version": "1.5.0",
          "state": {
            "_dom_classes": [],
            "_model_module": "@jupyter-widgets/controls",
            "_model_module_version": "1.5.0",
            "_model_name": "HTMLModel",
            "_view_count": null,
            "_view_module": "@jupyter-widgets/controls",
            "_view_module_version": "1.5.0",
            "_view_name": "HTMLView",
            "description": "",
            "description_tooltip": null,
            "layout": "IPY_MODEL_1610ae10e87e418895f7212cbfe34a4f",
            "placeholder": "​",
            "style": "IPY_MODEL_06a25754f3c04499a4bcf5a0e3905ccd",
            "value": " 1/1 [00:00&lt;00:00, 19.31it/s]"
          }
        },
        "ccf36c9fc8074b94a9884e7d12869dd3": {
          "model_module": "@jupyter-widgets/base",
          "model_name": "LayoutModel",
          "model_module_version": "1.2.0",
          "state": {
            "_model_module": "@jupyter-widgets/base",
            "_model_module_version": "1.2.0",
            "_model_name": "LayoutModel",
            "_view_count": null,
            "_view_module": "@jupyter-widgets/base",
            "_view_module_version": "1.2.0",
            "_view_name": "LayoutView",
            "align_content": null,
            "align_items": null,
            "align_self": null,
            "border": null,
            "bottom": null,
            "display": null,
            "flex": null,
            "flex_flow": null,
            "grid_area": null,
            "grid_auto_columns": null,
            "grid_auto_flow": null,
            "grid_auto_rows": null,
            "grid_column": null,
            "grid_gap": null,
            "grid_row": null,
            "grid_template_areas": null,
            "grid_template_columns": null,
            "grid_template_rows": null,
            "height": null,
            "justify_content": null,
            "justify_items": null,
            "left": null,
            "margin": null,
            "max_height": null,
            "max_width": null,
            "min_height": null,
            "min_width": null,
            "object_fit": null,
            "object_position": null,
            "order": null,
            "overflow": null,
            "overflow_x": null,
            "overflow_y": null,
            "padding": null,
            "right": null,
            "top": null,
            "visibility": null,
            "width": null
          }
        },
        "6f5351fc5ff44c8cb9f8437192f95f17": {
          "model_module": "@jupyter-widgets/base",
          "model_name": "LayoutModel",
          "model_module_version": "1.2.0",
          "state": {
            "_model_module": "@jupyter-widgets/base",
            "_model_module_version": "1.2.0",
            "_model_name": "LayoutModel",
            "_view_count": null,
            "_view_module": "@jupyter-widgets/base",
            "_view_module_version": "1.2.0",
            "_view_name": "LayoutView",
            "align_content": null,
            "align_items": null,
            "align_self": null,
            "border": null,
            "bottom": null,
            "display": null,
            "flex": null,
            "flex_flow": null,
            "grid_area": null,
            "grid_auto_columns": null,
            "grid_auto_flow": null,
            "grid_auto_rows": null,
            "grid_column": null,
            "grid_gap": null,
            "grid_row": null,
            "grid_template_areas": null,
            "grid_template_columns": null,
            "grid_template_rows": null,
            "height": null,
            "justify_content": null,
            "justify_items": null,
            "left": null,
            "margin": null,
            "max_height": null,
            "max_width": null,
            "min_height": null,
            "min_width": null,
            "object_fit": null,
            "object_position": null,
            "order": null,
            "overflow": null,
            "overflow_x": null,
            "overflow_y": null,
            "padding": null,
            "right": null,
            "top": null,
            "visibility": null,
            "width": null
          }
        },
        "63518df6513948d0a083a37e2c8c7435": {
          "model_module": "@jupyter-widgets/controls",
          "model_name": "DescriptionStyleModel",
          "model_module_version": "1.5.0",
          "state": {
            "_model_module": "@jupyter-widgets/controls",
            "_model_module_version": "1.5.0",
            "_model_name": "DescriptionStyleModel",
            "_view_count": null,
            "_view_module": "@jupyter-widgets/base",
            "_view_module_version": "1.2.0",
            "_view_name": "StyleView",
            "description_width": ""
          }
        },
        "ad43683e7447494d9183ebd463d85233": {
          "model_module": "@jupyter-widgets/base",
          "model_name": "LayoutModel",
          "model_module_version": "1.2.0",
          "state": {
            "_model_module": "@jupyter-widgets/base",
            "_model_module_version": "1.2.0",
            "_model_name": "LayoutModel",
            "_view_count": null,
            "_view_module": "@jupyter-widgets/base",
            "_view_module_version": "1.2.0",
            "_view_name": "LayoutView",
            "align_content": null,
            "align_items": null,
            "align_self": null,
            "border": null,
            "bottom": null,
            "display": null,
            "flex": null,
            "flex_flow": null,
            "grid_area": null,
            "grid_auto_columns": null,
            "grid_auto_flow": null,
            "grid_auto_rows": null,
            "grid_column": null,
            "grid_gap": null,
            "grid_row": null,
            "grid_template_areas": null,
            "grid_template_columns": null,
            "grid_template_rows": null,
            "height": null,
            "justify_content": null,
            "justify_items": null,
            "left": null,
            "margin": null,
            "max_height": null,
            "max_width": null,
            "min_height": null,
            "min_width": null,
            "object_fit": null,
            "object_position": null,
            "order": null,
            "overflow": null,
            "overflow_x": null,
            "overflow_y": null,
            "padding": null,
            "right": null,
            "top": null,
            "visibility": null,
            "width": null
          }
        },
        "ad8003f1ad3a496ead6c109ab78e0f53": {
          "model_module": "@jupyter-widgets/controls",
          "model_name": "ProgressStyleModel",
          "model_module_version": "1.5.0",
          "state": {
            "_model_module": "@jupyter-widgets/controls",
            "_model_module_version": "1.5.0",
            "_model_name": "ProgressStyleModel",
            "_view_count": null,
            "_view_module": "@jupyter-widgets/base",
            "_view_module_version": "1.2.0",
            "_view_name": "StyleView",
            "bar_color": null,
            "description_width": ""
          }
        },
        "1610ae10e87e418895f7212cbfe34a4f": {
          "model_module": "@jupyter-widgets/base",
          "model_name": "LayoutModel",
          "model_module_version": "1.2.0",
          "state": {
            "_model_module": "@jupyter-widgets/base",
            "_model_module_version": "1.2.0",
            "_model_name": "LayoutModel",
            "_view_count": null,
            "_view_module": "@jupyter-widgets/base",
            "_view_module_version": "1.2.0",
            "_view_name": "LayoutView",
            "align_content": null,
            "align_items": null,
            "align_self": null,
            "border": null,
            "bottom": null,
            "display": null,
            "flex": null,
            "flex_flow": null,
            "grid_area": null,
            "grid_auto_columns": null,
            "grid_auto_flow": null,
            "grid_auto_rows": null,
            "grid_column": null,
            "grid_gap": null,
            "grid_row": null,
            "grid_template_areas": null,
            "grid_template_columns": null,
            "grid_template_rows": null,
            "height": null,
            "justify_content": null,
            "justify_items": null,
            "left": null,
            "margin": null,
            "max_height": null,
            "max_width": null,
            "min_height": null,
            "min_width": null,
            "object_fit": null,
            "object_position": null,
            "order": null,
            "overflow": null,
            "overflow_x": null,
            "overflow_y": null,
            "padding": null,
            "right": null,
            "top": null,
            "visibility": null,
            "width": null
          }
        },
        "06a25754f3c04499a4bcf5a0e3905ccd": {
          "model_module": "@jupyter-widgets/controls",
          "model_name": "DescriptionStyleModel",
          "model_module_version": "1.5.0",
          "state": {
            "_model_module": "@jupyter-widgets/controls",
            "_model_module_version": "1.5.0",
            "_model_name": "DescriptionStyleModel",
            "_view_count": null,
            "_view_module": "@jupyter-widgets/base",
            "_view_module_version": "1.2.0",
            "_view_name": "StyleView",
            "description_width": ""
          }
        }
      }
    }
  },
  "cells": [
    {
      "cell_type": "code",
      "execution_count": 1,
      "metadata": {
        "colab": {
          "base_uri": "https://localhost:8080/"
        },
        "id": "30CiUS6tZno8",
        "outputId": "d543dc78-b8cc-41e2-e5a1-b8454becb68a"
      },
      "outputs": [
        {
          "output_type": "stream",
          "name": "stdout",
          "text": [
            "Looking in indexes: https://pypi.org/simple, https://us-python.pkg.dev/colab-wheels/public/simple/\n",
            "Requirement already satisfied: transformers in /usr/local/lib/python3.8/dist-packages (4.25.1)\n",
            "Requirement already satisfied: regex!=2019.12.17 in /usr/local/lib/python3.8/dist-packages (from transformers) (2022.6.2)\n",
            "Requirement already satisfied: filelock in /usr/local/lib/python3.8/dist-packages (from transformers) (3.8.0)\n",
            "Requirement already satisfied: pyyaml>=5.1 in /usr/local/lib/python3.8/dist-packages (from transformers) (6.0)\n",
            "Requirement already satisfied: huggingface-hub<1.0,>=0.10.0 in /usr/local/lib/python3.8/dist-packages (from transformers) (0.11.1)\n",
            "Requirement already satisfied: tqdm>=4.27 in /usr/local/lib/python3.8/dist-packages (from transformers) (4.64.1)\n",
            "Requirement already satisfied: packaging>=20.0 in /usr/local/lib/python3.8/dist-packages (from transformers) (21.3)\n",
            "Requirement already satisfied: numpy>=1.17 in /usr/local/lib/python3.8/dist-packages (from transformers) (1.21.6)\n",
            "Requirement already satisfied: requests in /usr/local/lib/python3.8/dist-packages (from transformers) (2.23.0)\n",
            "Requirement already satisfied: tokenizers!=0.11.3,<0.14,>=0.11.1 in /usr/local/lib/python3.8/dist-packages (from transformers) (0.13.2)\n",
            "Requirement already satisfied: typing-extensions>=3.7.4.3 in /usr/local/lib/python3.8/dist-packages (from huggingface-hub<1.0,>=0.10.0->transformers) (4.4.0)\n",
            "Requirement already satisfied: pyparsing!=3.0.5,>=2.0.2 in /usr/local/lib/python3.8/dist-packages (from packaging>=20.0->transformers) (3.0.9)\n",
            "Requirement already satisfied: chardet<4,>=3.0.2 in /usr/local/lib/python3.8/dist-packages (from requests->transformers) (3.0.4)\n",
            "Requirement already satisfied: idna<3,>=2.5 in /usr/local/lib/python3.8/dist-packages (from requests->transformers) (2.10)\n",
            "Requirement already satisfied: certifi>=2017.4.17 in /usr/local/lib/python3.8/dist-packages (from requests->transformers) (2022.9.24)\n",
            "Requirement already satisfied: urllib3!=1.25.0,!=1.25.1,<1.26,>=1.21.1 in /usr/local/lib/python3.8/dist-packages (from requests->transformers) (1.25.11)\n"
          ]
        }
      ],
      "source": [
        "!pip install transformers"
      ]
    },
    {
      "cell_type": "code",
      "source": [
        "from transformers import AutoTokenizer, TFAutoModel"
      ],
      "metadata": {
        "id": "8wMFsx8m2juT"
      },
      "execution_count": 2,
      "outputs": []
    },
    {
      "cell_type": "code",
      "source": [
        "import pandas as pd\n",
        "import numpy as np\n",
        "df = pd.read_csv('times.csv')\n",
        "df"
      ],
      "metadata": {
        "colab": {
          "base_uri": "https://localhost:8080/",
          "height": 580
        },
        "id": "ePUW7QLMZoYk",
        "outputId": "0361bd8b-b780-40ba-9420-e4906d47cbfe"
      },
      "execution_count": 3,
      "outputs": [
        {
          "output_type": "execute_result",
          "data": {
            "text/plain": [
              "                                               Title  \\\n",
              "0  Do we need a health check-up before signing fo...   \n",
              "1        Should you fast before having a blood test?   \n",
              "2  As Japanese encephalitis cases reported in cou...   \n",
              "3  Coronavirus: Nearly half of COVID patients glo...   \n",
              "4  Non-alcoholic fatty liver disease: Waking up b...   \n",
              "5  Coronavirus: Prevalence of COVID XBB, BA.2.75 ...   \n",
              "6  Coronavirus: Depressive symptoms of gut seen c...   \n",
              "7  Coronavirus: From getting a bald patch to losi...   \n",
              "8  \"Don't neglect a chest pain as gastritis\": Doc...   \n",
              "9  Coronavirus: Top 5 COVID symptoms that show up...   \n",
              "\n",
              "                                             Summary          Date  \\\n",
              "0  As more incidences of heart attacks in gyms an...  Dec 10, 2022   \n",
              "1  We undergo several blood tests in a year. Sinc...   Dec 9, 2022   \n",
              "2  Japanese encephalitis is an infection caused b...   Dec 9, 2022   \n",
              "3  More than 45% of the study participants had at...   Dec 9, 2022   \n",
              "4  According to the journal of Nature and Science...   Dec 8, 2022   \n",
              "5  \"The number of new weekly deaths decreased by ...   Dec 8, 2022   \n",
              "6  Interference of any foreign pathogen in this c...   Dec 7, 2022   \n",
              "7  But how is Coronavirus linked to hair fall or ...   Dec 7, 2022   \n",
              "8  From assuming it as a minor gastric issue to i...   Dec 7, 2022   \n",
              "9  Sore throat is one of the most common symptoms...   Dec 6, 2022   \n",
              "\n",
              "                                                Link  \n",
              "0  https://timesofindia.indiatimes.com/life-style...  \n",
              "1  https://timesofindia.indiatimes.com/life-style...  \n",
              "2  https://timesofindia.indiatimes.com/life-style...  \n",
              "3  https://timesofindia.indiatimes.com/life-style...  \n",
              "4  https://timesofindia.indiatimes.com/life-style...  \n",
              "5  https://timesofindia.indiatimes.com/life-style...  \n",
              "6  https://timesofindia.indiatimes.com/life-style...  \n",
              "7  https://timesofindia.indiatimes.com/life-style...  \n",
              "8  https://timesofindia.indiatimes.com/life-style...  \n",
              "9  https://timesofindia.indiatimes.com/life-style...  "
            ],
            "text/html": [
              "\n",
              "  <div id=\"df-28a97978-c709-43a2-9d8e-dbba4f684884\">\n",
              "    <div class=\"colab-df-container\">\n",
              "      <div>\n",
              "<style scoped>\n",
              "    .dataframe tbody tr th:only-of-type {\n",
              "        vertical-align: middle;\n",
              "    }\n",
              "\n",
              "    .dataframe tbody tr th {\n",
              "        vertical-align: top;\n",
              "    }\n",
              "\n",
              "    .dataframe thead th {\n",
              "        text-align: right;\n",
              "    }\n",
              "</style>\n",
              "<table border=\"1\" class=\"dataframe\">\n",
              "  <thead>\n",
              "    <tr style=\"text-align: right;\">\n",
              "      <th></th>\n",
              "      <th>Title</th>\n",
              "      <th>Summary</th>\n",
              "      <th>Date</th>\n",
              "      <th>Link</th>\n",
              "    </tr>\n",
              "  </thead>\n",
              "  <tbody>\n",
              "    <tr>\n",
              "      <th>0</th>\n",
              "      <td>Do we need a health check-up before signing fo...</td>\n",
              "      <td>As more incidences of heart attacks in gyms an...</td>\n",
              "      <td>Dec 10, 2022</td>\n",
              "      <td>https://timesofindia.indiatimes.com/life-style...</td>\n",
              "    </tr>\n",
              "    <tr>\n",
              "      <th>1</th>\n",
              "      <td>Should you fast before having a blood test?</td>\n",
              "      <td>We undergo several blood tests in a year. Sinc...</td>\n",
              "      <td>Dec 9, 2022</td>\n",
              "      <td>https://timesofindia.indiatimes.com/life-style...</td>\n",
              "    </tr>\n",
              "    <tr>\n",
              "      <th>2</th>\n",
              "      <td>As Japanese encephalitis cases reported in cou...</td>\n",
              "      <td>Japanese encephalitis is an infection caused b...</td>\n",
              "      <td>Dec 9, 2022</td>\n",
              "      <td>https://timesofindia.indiatimes.com/life-style...</td>\n",
              "    </tr>\n",
              "    <tr>\n",
              "      <th>3</th>\n",
              "      <td>Coronavirus: Nearly half of COVID patients glo...</td>\n",
              "      <td>More than 45% of the study participants had at...</td>\n",
              "      <td>Dec 9, 2022</td>\n",
              "      <td>https://timesofindia.indiatimes.com/life-style...</td>\n",
              "    </tr>\n",
              "    <tr>\n",
              "      <th>4</th>\n",
              "      <td>Non-alcoholic fatty liver disease: Waking up b...</td>\n",
              "      <td>According to the journal of Nature and Science...</td>\n",
              "      <td>Dec 8, 2022</td>\n",
              "      <td>https://timesofindia.indiatimes.com/life-style...</td>\n",
              "    </tr>\n",
              "    <tr>\n",
              "      <th>5</th>\n",
              "      <td>Coronavirus: Prevalence of COVID XBB, BA.2.75 ...</td>\n",
              "      <td>\"The number of new weekly deaths decreased by ...</td>\n",
              "      <td>Dec 8, 2022</td>\n",
              "      <td>https://timesofindia.indiatimes.com/life-style...</td>\n",
              "    </tr>\n",
              "    <tr>\n",
              "      <th>6</th>\n",
              "      <td>Coronavirus: Depressive symptoms of gut seen c...</td>\n",
              "      <td>Interference of any foreign pathogen in this c...</td>\n",
              "      <td>Dec 7, 2022</td>\n",
              "      <td>https://timesofindia.indiatimes.com/life-style...</td>\n",
              "    </tr>\n",
              "    <tr>\n",
              "      <th>7</th>\n",
              "      <td>Coronavirus: From getting a bald patch to losi...</td>\n",
              "      <td>But how is Coronavirus linked to hair fall or ...</td>\n",
              "      <td>Dec 7, 2022</td>\n",
              "      <td>https://timesofindia.indiatimes.com/life-style...</td>\n",
              "    </tr>\n",
              "    <tr>\n",
              "      <th>8</th>\n",
              "      <td>\"Don't neglect a chest pain as gastritis\": Doc...</td>\n",
              "      <td>From assuming it as a minor gastric issue to i...</td>\n",
              "      <td>Dec 7, 2022</td>\n",
              "      <td>https://timesofindia.indiatimes.com/life-style...</td>\n",
              "    </tr>\n",
              "    <tr>\n",
              "      <th>9</th>\n",
              "      <td>Coronavirus: Top 5 COVID symptoms that show up...</td>\n",
              "      <td>Sore throat is one of the most common symptoms...</td>\n",
              "      <td>Dec 6, 2022</td>\n",
              "      <td>https://timesofindia.indiatimes.com/life-style...</td>\n",
              "    </tr>\n",
              "  </tbody>\n",
              "</table>\n",
              "</div>\n",
              "      <button class=\"colab-df-convert\" onclick=\"convertToInteractive('df-28a97978-c709-43a2-9d8e-dbba4f684884')\"\n",
              "              title=\"Convert this dataframe to an interactive table.\"\n",
              "              style=\"display:none;\">\n",
              "        \n",
              "  <svg xmlns=\"http://www.w3.org/2000/svg\" height=\"24px\"viewBox=\"0 0 24 24\"\n",
              "       width=\"24px\">\n",
              "    <path d=\"M0 0h24v24H0V0z\" fill=\"none\"/>\n",
              "    <path d=\"M18.56 5.44l.94 2.06.94-2.06 2.06-.94-2.06-.94-.94-2.06-.94 2.06-2.06.94zm-11 1L8.5 8.5l.94-2.06 2.06-.94-2.06-.94L8.5 2.5l-.94 2.06-2.06.94zm10 10l.94 2.06.94-2.06 2.06-.94-2.06-.94-.94-2.06-.94 2.06-2.06.94z\"/><path d=\"M17.41 7.96l-1.37-1.37c-.4-.4-.92-.59-1.43-.59-.52 0-1.04.2-1.43.59L10.3 9.45l-7.72 7.72c-.78.78-.78 2.05 0 2.83L4 21.41c.39.39.9.59 1.41.59.51 0 1.02-.2 1.41-.59l7.78-7.78 2.81-2.81c.8-.78.8-2.07 0-2.86zM5.41 20L4 18.59l7.72-7.72 1.47 1.35L5.41 20z\"/>\n",
              "  </svg>\n",
              "      </button>\n",
              "      \n",
              "  <style>\n",
              "    .colab-df-container {\n",
              "      display:flex;\n",
              "      flex-wrap:wrap;\n",
              "      gap: 12px;\n",
              "    }\n",
              "\n",
              "    .colab-df-convert {\n",
              "      background-color: #E8F0FE;\n",
              "      border: none;\n",
              "      border-radius: 50%;\n",
              "      cursor: pointer;\n",
              "      display: none;\n",
              "      fill: #1967D2;\n",
              "      height: 32px;\n",
              "      padding: 0 0 0 0;\n",
              "      width: 32px;\n",
              "    }\n",
              "\n",
              "    .colab-df-convert:hover {\n",
              "      background-color: #E2EBFA;\n",
              "      box-shadow: 0px 1px 2px rgba(60, 64, 67, 0.3), 0px 1px 3px 1px rgba(60, 64, 67, 0.15);\n",
              "      fill: #174EA6;\n",
              "    }\n",
              "\n",
              "    [theme=dark] .colab-df-convert {\n",
              "      background-color: #3B4455;\n",
              "      fill: #D2E3FC;\n",
              "    }\n",
              "\n",
              "    [theme=dark] .colab-df-convert:hover {\n",
              "      background-color: #434B5C;\n",
              "      box-shadow: 0px 1px 3px 1px rgba(0, 0, 0, 0.15);\n",
              "      filter: drop-shadow(0px 1px 2px rgba(0, 0, 0, 0.3));\n",
              "      fill: #FFFFFF;\n",
              "    }\n",
              "  </style>\n",
              "\n",
              "      <script>\n",
              "        const buttonEl =\n",
              "          document.querySelector('#df-28a97978-c709-43a2-9d8e-dbba4f684884 button.colab-df-convert');\n",
              "        buttonEl.style.display =\n",
              "          google.colab.kernel.accessAllowed ? 'block' : 'none';\n",
              "\n",
              "        async function convertToInteractive(key) {\n",
              "          const element = document.querySelector('#df-28a97978-c709-43a2-9d8e-dbba4f684884');\n",
              "          const dataTable =\n",
              "            await google.colab.kernel.invokeFunction('convertToInteractive',\n",
              "                                                     [key], {});\n",
              "          if (!dataTable) return;\n",
              "\n",
              "          const docLinkHtml = 'Like what you see? Visit the ' +\n",
              "            '<a target=\"_blank\" href=https://colab.research.google.com/notebooks/data_table.ipynb>data table notebook</a>'\n",
              "            + ' to learn more about interactive tables.';\n",
              "          element.innerHTML = '';\n",
              "          dataTable['output_type'] = 'display_data';\n",
              "          await google.colab.output.renderOutput(dataTable, element);\n",
              "          const docLink = document.createElement('div');\n",
              "          docLink.innerHTML = docLinkHtml;\n",
              "          element.appendChild(docLink);\n",
              "        }\n",
              "      </script>\n",
              "    </div>\n",
              "  </div>\n",
              "  "
            ]
          },
          "metadata": {},
          "execution_count": 3
        }
      ]
    },
    {
      "cell_type": "code",
      "source": [
        "model_ckpt = \"sentence-transformers/multi-qa-mpnet-base-dot-v1\"\n",
        "tokenizer = AutoTokenizer.from_pretrained(model_ckpt)\n",
        "model = TFAutoModel.from_pretrained(model_ckpt, from_pt=True)"
      ],
      "metadata": {
        "colab": {
          "base_uri": "https://localhost:8080/"
        },
        "id": "DTDCXgN32tzB",
        "outputId": "cad98e01-7014-4a4e-a099-7500b6d1afb6"
      },
      "execution_count": 4,
      "outputs": [
        {
          "output_type": "stream",
          "name": "stderr",
          "text": [
            "Some weights of the PyTorch model were not used when initializing the TF 2.0 model TFMPNetModel: ['embeddings.position_ids']\n",
            "- This IS expected if you are initializing TFMPNetModel from a PyTorch model trained on another task or with another architecture (e.g. initializing a TFBertForSequenceClassification model from a BertForPreTraining model).\n",
            "- This IS NOT expected if you are initializing TFMPNetModel from a PyTorch model that you expect to be exactly identical (e.g. initializing a TFBertForSequenceClassification model from a BertForSequenceClassification model).\n",
            "All the weights of TFMPNetModel were initialized from the PyTorch model.\n",
            "If your task is similar to the task the model of the checkpoint was trained on, you can already use TFMPNetModel for predictions without further training.\n"
          ]
        }
      ]
    },
    {
      "cell_type": "code",
      "source": [
        "!pip install datasets"
      ],
      "metadata": {
        "colab": {
          "base_uri": "https://localhost:8080/"
        },
        "id": "xDh2ZkqPbElJ",
        "outputId": "24a1d96d-f44c-42fb-e05a-ad20365f4b09"
      },
      "execution_count": 5,
      "outputs": [
        {
          "output_type": "stream",
          "name": "stdout",
          "text": [
            "Looking in indexes: https://pypi.org/simple, https://us-python.pkg.dev/colab-wheels/public/simple/\n",
            "Requirement already satisfied: datasets in /usr/local/lib/python3.8/dist-packages (2.7.1)\n",
            "Requirement already satisfied: tqdm>=4.62.1 in /usr/local/lib/python3.8/dist-packages (from datasets) (4.64.1)\n",
            "Requirement already satisfied: pandas in /usr/local/lib/python3.8/dist-packages (from datasets) (1.3.5)\n",
            "Requirement already satisfied: xxhash in /usr/local/lib/python3.8/dist-packages (from datasets) (3.1.0)\n",
            "Requirement already satisfied: pyarrow>=6.0.0 in /usr/local/lib/python3.8/dist-packages (from datasets) (9.0.0)\n",
            "Requirement already satisfied: fsspec[http]>=2021.11.1 in /usr/local/lib/python3.8/dist-packages (from datasets) (2022.11.0)\n",
            "Requirement already satisfied: numpy>=1.17 in /usr/local/lib/python3.8/dist-packages (from datasets) (1.21.6)\n",
            "Requirement already satisfied: pyyaml>=5.1 in /usr/local/lib/python3.8/dist-packages (from datasets) (6.0)\n",
            "Requirement already satisfied: packaging in /usr/local/lib/python3.8/dist-packages (from datasets) (21.3)\n",
            "Requirement already satisfied: dill<0.3.7 in /usr/local/lib/python3.8/dist-packages (from datasets) (0.3.6)\n",
            "Requirement already satisfied: responses<0.19 in /usr/local/lib/python3.8/dist-packages (from datasets) (0.18.0)\n",
            "Requirement already satisfied: multiprocess in /usr/local/lib/python3.8/dist-packages (from datasets) (0.70.14)\n",
            "Requirement already satisfied: aiohttp in /usr/local/lib/python3.8/dist-packages (from datasets) (3.8.3)\n",
            "Requirement already satisfied: huggingface-hub<1.0.0,>=0.2.0 in /usr/local/lib/python3.8/dist-packages (from datasets) (0.11.1)\n",
            "Requirement already satisfied: requests>=2.19.0 in /usr/local/lib/python3.8/dist-packages (from datasets) (2.23.0)\n",
            "Requirement already satisfied: multidict<7.0,>=4.5 in /usr/local/lib/python3.8/dist-packages (from aiohttp->datasets) (6.0.3)\n",
            "Requirement already satisfied: charset-normalizer<3.0,>=2.0 in /usr/local/lib/python3.8/dist-packages (from aiohttp->datasets) (2.1.1)\n",
            "Requirement already satisfied: attrs>=17.3.0 in /usr/local/lib/python3.8/dist-packages (from aiohttp->datasets) (22.1.0)\n",
            "Requirement already satisfied: frozenlist>=1.1.1 in /usr/local/lib/python3.8/dist-packages (from aiohttp->datasets) (1.3.3)\n",
            "Requirement already satisfied: aiosignal>=1.1.2 in /usr/local/lib/python3.8/dist-packages (from aiohttp->datasets) (1.3.1)\n",
            "Requirement already satisfied: yarl<2.0,>=1.0 in /usr/local/lib/python3.8/dist-packages (from aiohttp->datasets) (1.8.2)\n",
            "Requirement already satisfied: async-timeout<5.0,>=4.0.0a3 in /usr/local/lib/python3.8/dist-packages (from aiohttp->datasets) (4.0.2)\n",
            "Requirement already satisfied: typing-extensions>=3.7.4.3 in /usr/local/lib/python3.8/dist-packages (from huggingface-hub<1.0.0,>=0.2.0->datasets) (4.4.0)\n",
            "Requirement already satisfied: filelock in /usr/local/lib/python3.8/dist-packages (from huggingface-hub<1.0.0,>=0.2.0->datasets) (3.8.0)\n",
            "Requirement already satisfied: pyparsing!=3.0.5,>=2.0.2 in /usr/local/lib/python3.8/dist-packages (from packaging->datasets) (3.0.9)\n",
            "Requirement already satisfied: certifi>=2017.4.17 in /usr/local/lib/python3.8/dist-packages (from requests>=2.19.0->datasets) (2022.9.24)\n",
            "Requirement already satisfied: idna<3,>=2.5 in /usr/local/lib/python3.8/dist-packages (from requests>=2.19.0->datasets) (2.10)\n",
            "Requirement already satisfied: urllib3!=1.25.0,!=1.25.1,<1.26,>=1.21.1 in /usr/local/lib/python3.8/dist-packages (from requests>=2.19.0->datasets) (1.25.11)\n",
            "Requirement already satisfied: chardet<4,>=3.0.2 in /usr/local/lib/python3.8/dist-packages (from requests>=2.19.0->datasets) (3.0.4)\n",
            "Requirement already satisfied: python-dateutil>=2.7.3 in /usr/local/lib/python3.8/dist-packages (from pandas->datasets) (2.8.2)\n",
            "Requirement already satisfied: pytz>=2017.3 in /usr/local/lib/python3.8/dist-packages (from pandas->datasets) (2022.6)\n",
            "Requirement already satisfied: six>=1.5 in /usr/local/lib/python3.8/dist-packages (from python-dateutil>=2.7.3->pandas->datasets) (1.15.0)\n"
          ]
        }
      ]
    },
    {
      "cell_type": "code",
      "source": [
        "!pip install faiss-cpu"
      ],
      "metadata": {
        "colab": {
          "base_uri": "https://localhost:8080/"
        },
        "id": "Ml7rpB1u1etP",
        "outputId": "9f1e8371-5193-46c3-c0a5-d83bebce99fe"
      },
      "execution_count": 6,
      "outputs": [
        {
          "output_type": "stream",
          "name": "stdout",
          "text": [
            "Looking in indexes: https://pypi.org/simple, https://us-python.pkg.dev/colab-wheels/public/simple/\n",
            "Requirement already satisfied: faiss-cpu in /usr/local/lib/python3.8/dist-packages (1.7.3)\n"
          ]
        }
      ]
    },
    {
      "cell_type": "code",
      "source": [
        "from datasets import Dataset\n",
        "\n",
        "comments_dataset = Dataset.from_pandas(df)\n",
        "comments_dataset"
      ],
      "metadata": {
        "colab": {
          "base_uri": "https://localhost:8080/"
        },
        "id": "UHOPpDE4ax2g",
        "outputId": "5a0cadad-6b15-45dd-9663-0ec55e371f11"
      },
      "execution_count": 7,
      "outputs": [
        {
          "output_type": "execute_result",
          "data": {
            "text/plain": [
              "Dataset({\n",
              "    features: ['Title', 'Summary', 'Date', 'Link'],\n",
              "    num_rows: 10\n",
              "})"
            ]
          },
          "metadata": {},
          "execution_count": 7
        }
      ]
    },
    {
      "cell_type": "code",
      "source": [
        "def concatenate_text(examples):\n",
        "    return {\n",
        "        \"text\": examples[\"Title\"]\n",
        "        + \" \\n \"\n",
        "        + examples[\"Summary\"]\n",
        "        \n",
        "    }\n",
        "\n",
        "\n",
        "comments_dataset = comments_dataset.map(concatenate_text)"
      ],
      "metadata": {
        "colab": {
          "base_uri": "https://localhost:8080/",
          "height": 49,
          "referenced_widgets": [
            "ac1b336149c640948e8e70bacf3a3c93",
            "f46d138e12544026bcfb981ab6b0c3c2",
            "62c0154dffd74a4fa5016e37268a400c",
            "70742c0f0a034f1b8cd5a4079f7b39a7",
            "a240f27a44b24e14b1d2346b88aa04a6",
            "41d688245fc34ce29922072a0cdc7656",
            "4e74c5cd9af24dd68295b2f340e668ac",
            "f245b80be912464380367f4ffb6f4edd",
            "ceba6053c907419a8e870b16f8f5df50",
            "c53b394908cf4e91b7c3e3b809691756",
            "5cc02dd9fcfd44549a015f31c3caeeef"
          ]
        },
        "id": "kDyry_zRax5b",
        "outputId": "78097e8b-036e-4ad6-bc8e-5da358957e1d"
      },
      "execution_count": 8,
      "outputs": [
        {
          "output_type": "display_data",
          "data": {
            "text/plain": [
              "  0%|          | 0/10 [00:00<?, ?ex/s]"
            ],
            "application/vnd.jupyter.widget-view+json": {
              "version_major": 2,
              "version_minor": 0,
              "model_id": "ac1b336149c640948e8e70bacf3a3c93"
            }
          },
          "metadata": {}
        }
      ]
    },
    {
      "cell_type": "code",
      "source": [
        "def cls_pooling(model_output):\n",
        "    return model_output.last_hidden_state[:, 0]\n",
        "    "
      ],
      "metadata": {
        "id": "U7c68yj1aC5a"
      },
      "execution_count": 9,
      "outputs": []
    },
    {
      "cell_type": "code",
      "source": [
        "def get_embeddings(text_list):\n",
        "    encoded_input = tokenizer(\n",
        "        text_list, padding=True, truncation=True, return_tensors=\"tf\"\n",
        "    )\n",
        "    encoded_input = {k: v for k, v in encoded_input.items()}\n",
        "    model_output = model(**encoded_input)\n",
        "    return cls_pooling(model_output)"
      ],
      "metadata": {
        "id": "SIBylpu5aK4k"
      },
      "execution_count": 10,
      "outputs": []
    },
    {
      "cell_type": "code",
      "source": [
        "embedding = get_embeddings(comments_dataset[\"text\"][0])\n",
        "embedding.shape"
      ],
      "metadata": {
        "colab": {
          "base_uri": "https://localhost:8080/"
        },
        "id": "dtbMlHdWaO0e",
        "outputId": "a9da1c6e-9bb4-44e6-c534-bfcbdd267b79"
      },
      "execution_count": 11,
      "outputs": [
        {
          "output_type": "execute_result",
          "data": {
            "text/plain": [
              "TensorShape([1, 768])"
            ]
          },
          "metadata": {},
          "execution_count": 11
        }
      ]
    },
    {
      "cell_type": "code",
      "source": [
        "embeddings_dataset = comments_dataset.map(\n",
        "    lambda x: {\"embeddings\": get_embeddings(x[\"text\"]).numpy()[0]}\n",
        ")"
      ],
      "metadata": {
        "colab": {
          "base_uri": "https://localhost:8080/",
          "height": 86,
          "referenced_widgets": [
            "aa8d24b6694b458eae71225d6fb3ddaa",
            "fc2b4a5de76b4a1a9554441a5d3a89d5",
            "7e33763b980d4f77bdf6445e429a9829",
            "3437af6ce40f4a32ad8084cd00ed5300",
            "b6108aed92c44f65986797419026a512",
            "3fcde5c521df4f14870fce086dae4c01",
            "b3ddb2c36fa0443197c00c4d3715e0b0",
            "584c0806f219455789eb4e6a56ac35f4",
            "2901154c846847819576c5ed6174b9c1",
            "2d2b587fa5ae4f5ca78f28b5bfe5d740",
            "494efdd292c34c41bb92844b2e004465"
          ]
        },
        "id": "3DqI4OsxaWIZ",
        "outputId": "00c8812c-8735-4874-c347-1aa829a50dbe"
      },
      "execution_count": 12,
      "outputs": [
        {
          "output_type": "stream",
          "name": "stderr",
          "text": [
            "WARNING:absl:Found untraced functions such as encoder_layer_call_fn, encoder_layer_call_and_return_conditional_losses, pooler_layer_call_fn, pooler_layer_call_and_return_conditional_losses, embeddings_layer_call_fn while saving (showing 5 of 396). These functions will not be directly callable after loading.\n"
          ]
        },
        {
          "output_type": "display_data",
          "data": {
            "text/plain": [
              "  0%|          | 0/10 [00:00<?, ?ex/s]"
            ],
            "application/vnd.jupyter.widget-view+json": {
              "version_major": 2,
              "version_minor": 0,
              "model_id": "aa8d24b6694b458eae71225d6fb3ddaa"
            }
          },
          "metadata": {}
        }
      ]
    },
    {
      "cell_type": "code",
      "source": [
        "embeddings_dataset.add_faiss_index(column='embeddings')"
      ],
      "metadata": {
        "colab": {
          "base_uri": "https://localhost:8080/",
          "height": 118,
          "referenced_widgets": [
            "9061c09f85ae40a3a970029da20b927a",
            "dfff3cf8a23f42f08bb7a1470500db97",
            "f860119bfdf34264948a339c661afad0",
            "c8caa71b69f5427891c0d82a8d090b44",
            "ccf36c9fc8074b94a9884e7d12869dd3",
            "6f5351fc5ff44c8cb9f8437192f95f17",
            "63518df6513948d0a083a37e2c8c7435",
            "ad43683e7447494d9183ebd463d85233",
            "ad8003f1ad3a496ead6c109ab78e0f53",
            "1610ae10e87e418895f7212cbfe34a4f",
            "06a25754f3c04499a4bcf5a0e3905ccd"
          ]
        },
        "id": "W4DvtGqWrqX5",
        "outputId": "d63cdb5b-023c-4c99-ad7a-c41b8f5d6feb"
      },
      "execution_count": 13,
      "outputs": [
        {
          "output_type": "display_data",
          "data": {
            "text/plain": [
              "  0%|          | 0/1 [00:00<?, ?it/s]"
            ],
            "application/vnd.jupyter.widget-view+json": {
              "version_major": 2,
              "version_minor": 0,
              "model_id": "9061c09f85ae40a3a970029da20b927a"
            }
          },
          "metadata": {}
        },
        {
          "output_type": "execute_result",
          "data": {
            "text/plain": [
              "Dataset({\n",
              "    features: ['Title', 'Summary', 'Date', 'Link', 'text', 'embeddings'],\n",
              "    num_rows: 10\n",
              "})"
            ]
          },
          "metadata": {},
          "execution_count": 13
        }
      ]
    },
    {
      "cell_type": "code",
      "source": [
        "embeddings_dataset.shape"
      ],
      "metadata": {
        "colab": {
          "base_uri": "https://localhost:8080/"
        },
        "id": "wiCzxZ42kXjy",
        "outputId": "38a5f467-482b-43bb-a2cd-a39260bf1f2d"
      },
      "execution_count": 14,
      "outputs": [
        {
          "output_type": "execute_result",
          "data": {
            "text/plain": [
              "(10, 6)"
            ]
          },
          "metadata": {},
          "execution_count": 14
        }
      ]
    },
    {
      "cell_type": "code",
      "source": [
        "# embeddings_dataset['embeddings']"
      ],
      "metadata": {
        "id": "AAS5KqVCiGVz"
      },
      "execution_count": 15,
      "outputs": []
    },
    {
      "cell_type": "code",
      "source": [
        "# # Create a CPU index\n",
        "# index = faiss.IndexFlatL2(768)\n",
        "\n",
        "# # Add the vectors to the index\n",
        "# embeddings = index.add(embeddings_df)\n",
        "\n",
        "# embeddings_dataset.add_faiss_index(column=\"embeddings\")"
      ],
      "metadata": {
        "id": "uF58wHtAcXJa"
      },
      "execution_count": 16,
      "outputs": []
    },
    {
      "cell_type": "code",
      "source": [
        "question = \"Is there any update on CORONA vaccine?\"\n",
        "question_embedding = get_embeddings([question]).numpy()\n",
        "question_embedding.shape"
      ],
      "metadata": {
        "colab": {
          "base_uri": "https://localhost:8080/"
        },
        "id": "zNWzYtH5gui2",
        "outputId": "da7b035e-da1d-45bc-f3f5-bd4cda4a87e7"
      },
      "execution_count": 17,
      "outputs": [
        {
          "output_type": "execute_result",
          "data": {
            "text/plain": [
              "(1, 768)"
            ]
          },
          "metadata": {},
          "execution_count": 17
        }
      ]
    },
    {
      "cell_type": "code",
      "source": [
        "question_embedding"
      ],
      "metadata": {
        "colab": {
          "base_uri": "https://localhost:8080/"
        },
        "id": "8Q6hmmCviRKd",
        "outputId": "f07e0f5f-7479-425a-ffe9-41134bb8030d"
      },
      "execution_count": 18,
      "outputs": [
        {
          "output_type": "execute_result",
          "data": {
            "text/plain": [
              "array([[-1.19242772e-01, -4.13819075e-01, -3.50076437e-01,\n",
              "        -2.42480680e-01,  1.08316854e-01, -2.24042654e-01,\n",
              "         7.80198723e-02,  1.95240706e-01, -1.30238160e-01,\n",
              "         2.12676048e-01,  1.87163383e-01,  5.90314269e-02,\n",
              "         3.86618637e-02, -1.17866725e-01, -2.12678075e-01,\n",
              "        -1.67647392e-01,  2.04911321e-01, -1.79678932e-01,\n",
              "         3.41955274e-01, -1.71086729e-01, -8.45142305e-02,\n",
              "         2.97977149e-01, -5.34341216e-01,  9.17647928e-02,\n",
              "         1.07703447e-01, -7.13119805e-02, -6.97793141e-02,\n",
              "        -2.49723583e-01,  2.37348098e-02, -3.13850939e-01,\n",
              "         2.93211669e-01,  1.48672372e-01,  2.02350020e-01,\n",
              "         1.80395961e-01, -9.23579501e-05, -2.01253712e-01,\n",
              "         2.67673373e-01,  1.91574574e-01, -5.99386655e-02,\n",
              "         9.77628380e-02,  2.02653140e-01, -1.57335401e-01,\n",
              "        -7.28461146e-02,  4.41589803e-02, -1.13632157e-01,\n",
              "        -2.09254041e-01,  2.33538881e-01,  7.53035694e-02,\n",
              "         2.13179320e-01, -1.37086809e-02,  3.99999291e-01,\n",
              "        -1.37288161e-02,  4.66110468e-01,  2.16960907e-05,\n",
              "        -1.41444907e-01, -7.33119845e-02, -5.41977324e-02,\n",
              "         6.51648343e-02,  5.29440761e-01,  1.58220574e-01,\n",
              "         1.00239813e-01,  2.82322258e-01,  8.89315754e-02,\n",
              "        -1.80407837e-01,  6.66800588e-02,  5.39095066e-02,\n",
              "         9.00249034e-02, -2.80585319e-01, -1.62945427e-02,\n",
              "         1.87108591e-01,  3.60783726e-01, -3.48276384e-02,\n",
              "        -2.88294464e-01,  3.37327719e-02,  6.83198199e-02,\n",
              "        -4.16422039e-01,  2.62275904e-01, -1.20891578e-01,\n",
              "        -5.95788285e-03,  1.86741129e-02,  5.25560439e-01,\n",
              "        -3.00858945e-01, -9.95750725e-02, -2.82463253e-01,\n",
              "         4.58375365e-02,  2.34374985e-01, -1.48035437e-01,\n",
              "        -9.22643393e-02,  8.36319663e-03, -2.35894322e-01,\n",
              "         9.84667912e-02,  1.51801556e-01,  4.25156318e-02,\n",
              "         2.23006964e-01, -1.55039057e-01, -3.51030350e-01,\n",
              "         1.45020112e-02,  1.34255156e-01,  2.27321982e-02,\n",
              "        -2.99592823e-01, -8.02514032e-02,  3.58419232e-02,\n",
              "         3.48110087e-02, -1.65207125e-02,  2.81623363e-01,\n",
              "        -7.65449852e-02, -1.37604058e-01,  4.03543711e-01,\n",
              "         1.49911702e-01,  1.94976345e-01,  1.31707847e-01,\n",
              "         1.46993011e-01, -9.97757465e-02, -8.21559280e-02,\n",
              "        -9.64672118e-02,  3.37128639e-02, -1.20407015e-01,\n",
              "        -1.68182507e-01,  1.45090133e-01,  7.26155043e-02,\n",
              "         1.26413792e-01, -1.27253979e-01, -3.85906100e-01,\n",
              "         1.22522026e-01, -4.54313643e-02,  4.01858151e-01,\n",
              "        -8.18130374e-02, -3.39686811e-01,  1.90960169e-01,\n",
              "         5.53594492e-02, -3.28752786e-01,  1.47439376e-01,\n",
              "         1.86405554e-02,  2.07817499e-02, -1.68123096e-01,\n",
              "        -1.35266557e-01, -1.93829790e-01, -9.60332900e-02,\n",
              "         5.04039764e-01, -3.53828147e-02, -5.24142563e-01,\n",
              "        -4.34803963e-02,  2.59080175e-02,  1.63812339e-01,\n",
              "        -2.54361808e-01,  1.25809446e-01, -4.40829881e-02,\n",
              "         7.87656009e-03, -9.48174223e-02,  4.67752889e-02,\n",
              "        -1.48561269e-01, -7.07345605e-02, -1.65442556e-01,\n",
              "         3.20067734e-01,  1.54536799e-01, -6.56671897e-02,\n",
              "         6.68181896e-01,  1.49810268e-02,  1.17429271e-02,\n",
              "        -1.64206803e-01,  8.53652731e-02,  2.25077774e-02,\n",
              "        -2.02776045e-01, -2.51976401e-01,  1.09106302e-03,\n",
              "         1.79176301e-01, -2.64717452e-02, -6.42042607e-02,\n",
              "         4.95794266e-02,  2.05286264e-01, -5.21530695e-02,\n",
              "         3.40345688e-02, -6.18608780e-02, -6.37960061e-03,\n",
              "        -8.88304785e-03, -4.88193631e-01,  6.29911050e-02,\n",
              "        -8.05010259e-01, -2.44934306e-01, -6.98775202e-02,\n",
              "        -3.61122489e-02, -1.70301646e-01,  8.42276812e-02,\n",
              "        -3.26081097e-01,  1.26739144e-02,  5.52586988e-02,\n",
              "         1.29015565e-01, -7.47444332e-02, -2.96890110e-01,\n",
              "         5.69863915e-02, -7.05419555e-02, -2.24295869e-01,\n",
              "        -1.13336146e-01, -2.08775252e-02,  3.63110602e-01,\n",
              "        -5.68760186e-03,  3.62479836e-02,  2.80676991e-01,\n",
              "         2.22575322e-01,  3.22398812e-01, -2.77500272e-01,\n",
              "         7.74261653e-02, -9.53521281e-02, -9.32101458e-02,\n",
              "         2.00125009e-01,  3.54443699e-01,  1.14740387e-01,\n",
              "        -2.26504683e-01,  1.88453510e-01, -3.71014960e-02,\n",
              "         1.32700488e-01, -5.44547662e-02, -1.14539936e-02,\n",
              "        -4.81165312e-02,  3.37877631e-01, -2.85182238e-01,\n",
              "         3.70103955e-01,  2.34307155e-01,  1.79620102e-01,\n",
              "         6.91156983e-02, -4.93335068e-01,  2.71979064e-01,\n",
              "         2.02301979e-01,  7.03613833e-03, -1.24020897e-01,\n",
              "         9.03205797e-02, -3.78881469e-02, -6.80955052e-02,\n",
              "         1.46893486e-01,  2.13124335e-01,  1.79814279e-01,\n",
              "        -1.00717217e-01,  9.34030861e-02,  7.89196715e-02,\n",
              "        -2.85500914e-01,  2.07487285e-01,  1.43273801e-01,\n",
              "        -2.92750746e-02,  5.57783544e-02, -2.12603882e-01,\n",
              "         1.14713475e-01, -2.40628600e-01, -7.45505542e-02,\n",
              "         2.26323143e-01, -2.66328603e-02,  1.61399812e-01,\n",
              "        -1.31549224e-01, -7.60148913e-02,  1.55663908e-01,\n",
              "        -3.76645252e-02, -5.80859929e-03, -7.59584904e-02,\n",
              "        -5.03527187e-02,  1.57823190e-02, -1.42872065e-01,\n",
              "         3.03023905e-01, -3.19259576e-02, -4.31280673e-01,\n",
              "        -2.07438380e-01,  6.10993542e-02,  1.81822374e-01,\n",
              "         3.89827862e-02, -5.29087484e-02, -1.24250017e-01,\n",
              "         1.38357565e-01, -1.34229213e-02,  9.24270973e-02,\n",
              "         1.50186419e-02,  6.66271895e-03,  1.40240699e-01,\n",
              "         4.03257012e-02, -1.49840504e-01,  1.42770350e-01,\n",
              "        -2.02484764e-02,  2.27670968e-02, -1.31410390e-01,\n",
              "        -1.46779597e-01,  2.07567677e-01, -4.77635302e-03,\n",
              "         3.20155501e-01, -7.36192316e-02,  1.82081759e-01,\n",
              "        -1.90694369e-02,  3.44016925e-02, -1.04781367e-01,\n",
              "        -1.17640004e-01,  3.14949900e-02, -8.75240117e-02,\n",
              "         8.42267424e-02,  8.89888704e-02,  1.36962265e-01,\n",
              "         5.30442074e-02,  1.75517172e-01, -5.83897829e-02,\n",
              "         2.56284744e-01,  1.56111464e-01,  9.39084291e-02,\n",
              "         4.14963931e-01, -1.11293942e-01,  8.06449577e-02,\n",
              "        -8.20559710e-02,  2.43002653e-01, -5.17258197e-02,\n",
              "         4.68441784e-01, -3.74027163e-01, -2.42470980e-01,\n",
              "         1.23557691e-02,  2.00305805e-02, -6.10039793e-02,\n",
              "         1.05645046e-01, -3.19910705e-01,  2.42275119e-01,\n",
              "        -6.38495618e-03, -2.19958469e-01,  1.35624915e-01,\n",
              "        -2.55938321e-01, -1.54145032e-01, -1.90899402e-01,\n",
              "        -2.51954406e-01, -4.33319449e-01, -1.18618876e-01,\n",
              "        -3.90146166e-01, -2.34182283e-01, -1.95003767e-02,\n",
              "        -1.98346615e-01, -2.28662193e-01, -2.27185041e-01,\n",
              "        -4.58489880e-02, -2.77689248e-01, -1.10097006e-02,\n",
              "         6.94355816e-02,  1.79873869e-01,  2.81405449e-01,\n",
              "        -6.84921145e-02, -1.66755021e-01, -2.93615490e-01,\n",
              "        -1.33786350e-01, -3.41666132e-01,  2.20635943e-02,\n",
              "        -1.30834430e-01, -1.34662583e-01, -2.45436236e-01,\n",
              "        -1.42540276e-01,  2.85744071e-01, -3.01672935e-01,\n",
              "        -4.11199689e-01,  5.98887168e-02,  1.82315603e-01,\n",
              "         1.13279998e-01,  1.42638711e-02, -2.59191602e-01,\n",
              "         2.91440099e-01, -2.11199611e-01, -3.91851783e-01,\n",
              "        -1.55911177e-01, -6.92457035e-02, -1.99514896e-01,\n",
              "        -3.10238957e-01,  2.39088982e-01, -5.12129702e-02,\n",
              "         6.93508312e-02,  2.40264118e-01,  1.24973446e-01,\n",
              "        -1.08008802e-01, -9.40803140e-02,  9.30826366e-02,\n",
              "         1.49884596e-01,  3.84867728e-01,  7.65170828e-02,\n",
              "        -1.18451536e-01,  3.53314906e-01,  1.80679351e-01,\n",
              "        -2.06335671e-02, -2.41169706e-02,  1.08002648e-02,\n",
              "        -2.21582666e-01, -4.32277396e-02, -1.77046850e-01,\n",
              "        -1.25686407e-01, -2.81070024e-02, -1.20896690e-01,\n",
              "         2.62677342e-01,  4.02273461e-02,  5.29232472e-02,\n",
              "        -1.06559999e-01, -1.43052921e-01,  3.23912725e-02,\n",
              "        -7.61021897e-02,  2.34485179e-01,  2.51990438e-01,\n",
              "        -2.69552708e-01, -4.51140851e-03,  2.10855186e-01,\n",
              "        -2.02794448e-01,  1.20886102e-01,  1.88987985e-01,\n",
              "         8.16025883e-02, -6.67883158e-02,  9.50385183e-02,\n",
              "         2.63889767e-02, -1.72176555e-01, -5.82364947e-03,\n",
              "        -1.62340343e-01,  2.67375469e-01,  3.19899023e-01,\n",
              "        -1.60021871e-01,  3.98665369e-02,  1.52266428e-01,\n",
              "         3.54574546e-02, -1.51630446e-01,  4.99338284e-02,\n",
              "         1.34391367e-01, -7.39749968e-02, -1.84553206e-01,\n",
              "         6.05417490e-01, -1.32205725e-01, -1.16049126e-01,\n",
              "         6.76775351e-03,  4.16386127e-02, -1.33962780e-02,\n",
              "        -1.48135886e-01,  2.47944891e-01, -2.32813478e-01,\n",
              "        -1.45699650e-01, -1.92026764e-01, -2.40111649e-01,\n",
              "         1.51588053e-01, -2.66233861e-01, -2.10883468e-01,\n",
              "         2.38440707e-02, -8.15728158e-02,  1.38242841e-01,\n",
              "        -1.60535216e-01,  4.95706320e-01, -8.92487019e-02,\n",
              "        -1.05492540e-01, -2.17860460e-01, -4.83499393e-02,\n",
              "        -1.85900584e-01,  1.51952356e-01,  2.01985300e-01,\n",
              "        -5.11114374e-02,  3.17363232e-01, -2.18851864e-01,\n",
              "         1.57522231e-01, -1.11053437e-01, -2.62525678e-01,\n",
              "         3.74792665e-01, -2.55483270e-01,  3.14404696e-01,\n",
              "         9.77217406e-02, -1.26706004e-01, -1.28699750e-01,\n",
              "        -2.77551413e-01,  1.56561911e-01, -3.84678990e-01,\n",
              "         4.06844616e-01,  3.76873091e-03,  6.78535998e-02,\n",
              "         2.15411782e-02,  1.33641094e-01,  6.84594393e-01,\n",
              "         1.64842650e-01, -5.78503273e-02,  1.88320354e-01,\n",
              "        -5.89627884e-02,  2.97755659e-01, -1.78396478e-02,\n",
              "         1.51042938e-02, -2.98954755e-01, -6.27855062e-02,\n",
              "         1.31371498e-01,  1.41717792e-01,  1.91878736e-01,\n",
              "        -3.87378752e-01, -4.15684879e-01,  2.16750801e-01,\n",
              "         1.68140382e-02,  1.11239024e-01,  1.13345169e-01,\n",
              "        -1.61565989e-01,  4.21795547e-02, -1.22273982e-01,\n",
              "         1.64745837e-01,  4.01973218e-01,  6.85500056e-02,\n",
              "         1.41985923e-01,  6.02800809e-02,  7.45972395e-02,\n",
              "        -3.35380211e-02, -5.61171591e-01, -2.98557699e-01,\n",
              "         6.83948398e-02,  2.30479375e-01, -2.07716033e-01,\n",
              "         2.83471704e-01, -1.29396424e-01, -1.66999817e-01,\n",
              "         1.76616967e-01,  4.83891606e-01,  4.21757735e-02,\n",
              "         1.05223283e-01,  2.82559901e-01, -2.29528546e-03,\n",
              "         2.37453990e-02, -2.56743759e-01,  1.78879574e-01,\n",
              "         2.58389145e-01, -1.04763247e-01, -3.72619569e-01,\n",
              "         1.74292460e-01,  1.27570301e-01, -2.32412189e-01,\n",
              "        -4.09400463e-02,  1.09446183e-01,  1.72509030e-01,\n",
              "        -3.46301496e-03,  5.51835537e-01,  3.90718400e-01,\n",
              "         7.09501877e-02, -1.21400118e-01,  3.90213490e-01,\n",
              "         2.66431253e-02,  2.16133624e-01,  5.72680160e-02,\n",
              "         2.98531592e-01, -1.15664929e-01, -2.15091735e-01,\n",
              "         3.35868567e-01,  2.49638140e-01, -1.33868724e-01,\n",
              "         1.43929660e-01, -2.09165514e-01, -1.96560144e-01,\n",
              "        -3.16470057e-01, -3.18400621e-01,  3.49762142e-02,\n",
              "        -1.81164339e-01, -8.97458754e-03, -1.58025771e-01,\n",
              "        -1.65654704e-01,  9.77273211e-02,  1.44556791e-01,\n",
              "        -1.90676600e-01, -1.45717077e-02, -2.04335362e-01,\n",
              "        -5.29813133e-02, -2.77963102e-01,  2.74275303e-01,\n",
              "        -4.47653383e-01,  8.32134858e-03,  3.26636508e-02,\n",
              "        -1.40173480e-01,  1.26606420e-01,  8.48998800e-02,\n",
              "        -5.16780734e-01,  8.15669447e-03,  1.61819071e-01,\n",
              "        -9.07763243e-02, -5.89833185e-02,  2.78531350e-02,\n",
              "         3.29472095e-01, -6.19283356e-02,  3.82921129e-01,\n",
              "         1.14375778e-01,  1.88631088e-01, -4.42648411e-01,\n",
              "        -1.22126319e-01, -3.87524366e-02, -6.16288790e-03,\n",
              "         6.66019991e-02, -1.29928067e-01,  2.10171193e-02,\n",
              "        -1.54536381e-01,  2.01137900e-01,  5.52763417e-03,\n",
              "        -1.06751382e-01,  1.60287708e-01,  2.40856081e-01,\n",
              "         8.19082707e-02,  3.14099550e-01,  2.61129856e-01,\n",
              "         1.73132241e-01,  1.43484354e-01,  3.15682173e-01,\n",
              "         1.88865438e-01,  2.62825936e-01,  7.80465975e-02,\n",
              "        -1.80242747e-01, -2.20537513e-01, -7.44774193e-02,\n",
              "        -7.42361695e-02,  1.19447857e-01,  2.42590010e-01,\n",
              "         1.17368184e-01, -2.81015724e-01, -2.88395166e-01,\n",
              "        -2.97947139e-01, -1.75345764e-02, -2.91521642e-02,\n",
              "         6.17335215e-02, -1.43515557e-01,  2.94602811e-01,\n",
              "        -1.27366081e-01, -1.24198779e-01, -2.16717228e-01,\n",
              "         1.79984212e-01, -8.55934098e-02,  1.19653814e-01,\n",
              "         2.37742096e-01, -1.83889091e-01,  5.68207800e-01,\n",
              "        -1.26484968e-02,  4.78827655e-01,  1.39599934e-01,\n",
              "         7.64064044e-02,  5.13160884e-01,  8.68893862e-02,\n",
              "        -4.44852374e-02, -1.61795188e-02, -4.38434025e-03,\n",
              "        -1.31322965e-02,  7.47291893e-02, -2.74705961e-02,\n",
              "        -3.47026736e-02,  1.21942520e-01,  1.35161802e-01,\n",
              "         1.15869507e-01, -2.35037394e-02,  4.12755221e-01,\n",
              "         1.75369084e-01,  1.56966984e-01, -1.61302201e-02,\n",
              "         4.10091192e-01, -3.00759673e-01,  3.42197269e-01,\n",
              "        -2.53642593e-02, -1.98127180e-01,  5.05878218e-02,\n",
              "         1.35237098e-01, -1.91349804e-01,  5.19346297e-02,\n",
              "        -1.57690659e-01, -1.57809466e-01,  6.86150864e-02,\n",
              "         1.87440619e-01,  1.64459407e-01,  1.31526455e-01,\n",
              "        -6.52655214e-02, -4.47089784e-02,  1.07543103e-01,\n",
              "         2.12833375e-01,  8.87395591e-02,  3.40413302e-01,\n",
              "         5.68078309e-02,  1.20244063e-01, -2.64885649e-02,\n",
              "        -9.17956233e-02,  4.00065601e-01,  3.18131834e-01,\n",
              "         4.49752435e-02, -2.43561953e-01,  8.72699171e-02,\n",
              "        -2.39507541e-01, -1.95364848e-01, -1.20719358e-01,\n",
              "        -4.26363423e-02,  2.26455018e-01, -1.96971372e-01,\n",
              "         1.78642958e-01, -2.37450093e-01,  3.86762977e-01,\n",
              "        -2.63561726e-01,  2.49044746e-01, -1.09848417e-02,\n",
              "         2.86624968e-01, -3.93253043e-02, -2.24797875e-01,\n",
              "        -7.15547353e-02,  1.44288108e-01, -3.35344166e-01,\n",
              "         4.02379632e-01, -4.13144603e-02,  1.88025802e-01,\n",
              "        -2.04704136e-01,  1.21987388e-02, -9.16062891e-02,\n",
              "        -1.90595537e-01,  1.74483895e-01,  1.70596048e-01,\n",
              "         3.73488814e-01,  1.67615533e-01,  1.02402315e-01,\n",
              "         2.49868214e-01, -2.31513485e-01, -1.16590865e-01,\n",
              "         4.13311541e-01,  2.70440400e-01,  1.97822303e-01,\n",
              "        -1.01994514e-01,  1.64653063e-01,  3.39471512e-02,\n",
              "         2.54613552e-02,  1.44341126e-01, -3.31742853e-01,\n",
              "        -1.67132467e-01,  6.35408387e-02, -2.23316297e-01,\n",
              "         1.26907989e-01,  3.79970431e-01,  2.39068136e-01,\n",
              "        -1.58556104e-02, -1.62101164e-02,  8.71464610e-03,\n",
              "         2.79367343e-03,  2.31324032e-01,  1.20532557e-01,\n",
              "        -5.16967535e-01, -2.37312719e-01, -1.29684031e-01,\n",
              "         5.39888799e-01,  1.79613847e-02,  2.42054239e-02,\n",
              "        -4.18956816e-01, -3.60988289e-01, -4.18818861e-01,\n",
              "        -1.98447276e-02, -1.31663218e-01,  1.34808257e-01,\n",
              "         1.89430624e-01,  2.66941413e-02, -3.81972939e-02,\n",
              "        -5.43552116e-02,  9.77423564e-02,  1.06746331e-03,\n",
              "        -9.42769200e-02, -2.32233256e-01, -3.06371935e-02,\n",
              "         1.56696901e-01,  3.27964991e-01, -2.35537458e-02,\n",
              "        -3.28382641e-01,  4.13119495e-02, -1.16081625e-01,\n",
              "        -1.07536294e-01, -3.15005958e-01, -8.44882429e-03,\n",
              "         3.73773694e-01, -6.17075711e-02,  1.25607133e-01,\n",
              "        -3.81569982e-01, -5.51014096e-02,  3.36952001e-01,\n",
              "        -2.71719486e-01, -3.18136990e-01,  1.19795442e-01,\n",
              "        -6.77863881e-03,  2.45537162e-01, -1.20380558e-02,\n",
              "        -1.14726856e-01,  1.17912538e-01,  3.88455391e-02,\n",
              "        -2.09537536e-01,  1.06246166e-01,  5.64164482e-02,\n",
              "         6.81328475e-02, -2.01672375e-01, -3.34349498e-02]], dtype=float32)"
            ]
          },
          "metadata": {},
          "execution_count": 18
        }
      ]
    },
    {
      "cell_type": "code",
      "source": [
        "scores, samples = embeddings_dataset.get_nearest_examples(\n",
        "    \"embeddings\", question_embedding, k=5\n",
        ")"
      ],
      "metadata": {
        "id": "qLCyfZ8ihMoz"
      },
      "execution_count": 19,
      "outputs": []
    },
    {
      "cell_type": "code",
      "source": [
        "import pandas as pd\n",
        "\n",
        "samples_df = pd.DataFrame.from_dict(samples)\n",
        "samples_df[\"scores\"] = scores\n",
        "samples_df.sort_values(\"scores\", ascending=False, inplace=True)"
      ],
      "metadata": {
        "id": "nGAvR8sHhQFv"
      },
      "execution_count": 20,
      "outputs": []
    },
    {
      "cell_type": "code",
      "source": [
        "print(samples_df.columns)\n"
      ],
      "metadata": {
        "colab": {
          "base_uri": "https://localhost:8080/"
        },
        "id": "VSihT4_u5bWv",
        "outputId": "77187dcc-904a-4b42-e603-d2a3c5834643"
      },
      "execution_count": 25,
      "outputs": [
        {
          "output_type": "stream",
          "name": "stdout",
          "text": [
            "Index(['Title', 'Summary', 'Date', 'Link', 'text', 'embeddings', 'scores'], dtype='object')\n"
          ]
        }
      ]
    },
    {
      "cell_type": "code",
      "source": [
        "for _, row in samples_df.iterrows():\n",
        "    \n",
        "    print(f\"SCORE: {row.scores}\")\n",
        "    print(f\"TITLE: {row.Title}\")\n",
        "    print(f\"URL: {row.Link}\")\n",
        "    print(\"=\" * 50)\n",
        "    "
      ],
      "metadata": {
        "colab": {
          "base_uri": "https://localhost:8080/"
        },
        "id": "7BaDEIY94eMh",
        "outputId": "c5d8c026-5bcb-4eb5-b934-177be21ba8fa"
      },
      "execution_count": 27,
      "outputs": [
        {
          "output_type": "stream",
          "name": "stdout",
          "text": [
            "SCORE: 53.02634811401367\n",
            "TITLE: As Japanese encephalitis cases reported in country, key symptoms to know\n",
            "URL: https://timesofindia.indiatimes.com/life-style/health-fitness/health-news/as-japanese-encephalitis-cases-reported-in-country-key-symptoms-to-know/photostory/96106220.cms\n",
            "==================================================\n",
            "SCORE: 45.043243408203125\n",
            "TITLE: Coronavirus: From getting a bald patch to losing hair volume; experts explain hair fall and thinning during the COVID pandemic\n",
            "URL: https://timesofindia.indiatimes.com/life-style/health-fitness/health-news/coronavirus-from-getting-a-bald-patch-to-losing-hair-volume-experts-explain-hair-fall-and-thinning-during-the-covid-pandemic/articleshow/96052616.cms\n",
            "==================================================\n",
            "SCORE: 42.03228759765625\n",
            "TITLE: Coronavirus: Top 5 COVID symptoms that show up in fully vaccinated people\n",
            "URL: https://timesofindia.indiatimes.com/life-style/health-fitness/health-news/coronavirus-top-5-covid-symptoms-that-show-up-in-fully-vaccinated-people/photostory/96024049.cms\n",
            "==================================================\n",
            "SCORE: 39.02573776245117\n",
            "TITLE: Coronavirus: Nearly half of COVID patients globally have symptoms even after 4 months, new study finds\n",
            "URL: https://timesofindia.indiatimes.com/life-style/health-fitness/health-news/coronavirus-nearly-half-of-covid-patients-globally-have-symptoms-even-after-4-months-new-study-finds/photostory/96106120.cms\n",
            "==================================================\n",
            "SCORE: 34.026405334472656\n",
            "TITLE: Coronavirus: Prevalence of COVID XBB, BA.2.75 has increased, says WHO in latest report; know the key symptoms\n",
            "URL: https://timesofindia.indiatimes.com/life-style/health-fitness/health-news/coronavirus-prevalence-of-covid-xbb-ba-2-75-has-increased-says-who-in-latest-report-know-the-key-symptoms/photostory/96079310.cms\n",
            "==================================================\n"
          ]
        }
      ]
    },
    {
      "cell_type": "code",
      "source": [],
      "metadata": {
        "id": "zx1Vv9fs4g2j"
      },
      "execution_count": null,
      "outputs": []
    }
  ]
}