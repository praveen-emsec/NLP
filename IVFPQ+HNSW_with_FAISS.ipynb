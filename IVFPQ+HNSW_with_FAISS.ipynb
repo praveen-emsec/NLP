{
  "nbformat": 4,
  "nbformat_minor": 0,
  "metadata": {
    "colab": {
      "provenance": []
    },
    "kernelspec": {
      "name": "python3",
      "display_name": "Python 3"
    },
    "language_info": {
      "name": "python"
    }
  },
  "cells": [
    {
      "cell_type": "code",
      "execution_count": 1,
      "metadata": {
        "colab": {
          "base_uri": "https://localhost:8080/"
        },
        "id": "u7ik73FbJlEa",
        "outputId": "0dc5413b-c39e-48ee-e9cb-841105b9b8e9"
      },
      "outputs": [
        {
          "output_type": "stream",
          "name": "stdout",
          "text": [
            "Looking in indexes: https://pypi.org/simple, https://us-python.pkg.dev/colab-wheels/public/simple/\n",
            "Requirement already satisfied: faiss-cpu in /usr/local/lib/python3.8/dist-packages (1.7.3)\n"
          ]
        }
      ],
      "source": [
        "!pip install faiss-cpu"
      ]
    },
    {
      "cell_type": "code",
      "source": [
        "import faiss\n",
        "import numpy as np"
      ],
      "metadata": {
        "id": "mULU8cX1J1NA"
      },
      "execution_count": 2,
      "outputs": []
    },
    {
      "cell_type": "code",
      "source": [
        "import pandas as pd\n",
        "from sklearn.preprocessing import LabelEncoder\n",
        "# Read the CSV file into a dataframe\n",
        "df = pd.read_csv('medium_Data.csv')\n"
      ],
      "metadata": {
        "id": "cWDv50VHJvyI"
      },
      "execution_count": 3,
      "outputs": []
    },
    {
      "cell_type": "code",
      "source": [
        "# Encoding the categorical data to numerical data to process\n",
        "encoders = {}\n",
        "for col in df.columns:\n",
        "    if df[col].dtype == object:\n",
        "        encoders[col] = LabelEncoder()\n",
        "        df[col] = encoders[col].fit_transform(df[col])"
      ],
      "metadata": {
        "id": "msz8y6b8Z5f-"
      },
      "execution_count": 4,
      "outputs": []
    },
    {
      "cell_type": "code",
      "source": [
        "data = df.values"
      ],
      "metadata": {
        "id": "8L6p0klqbSyz"
      },
      "execution_count": 5,
      "outputs": []
    },
    {
      "cell_type": "code",
      "source": [
        "data"
      ],
      "metadata": {
        "colab": {
          "base_uri": "https://localhost:8080/"
        },
        "id": "bGMBawe_eRGZ",
        "outputId": "8bac595f-3c39-4139-d981-68889c683e6e"
      },
      "execution_count": 6,
      "outputs": [
        {
          "output_type": "execute_result",
          "data": {
            "text/plain": [
              "array([[154, 180,  60, 239, 180],\n",
              "       [180, 204,  74,  29, 255],\n",
              "       [219,  85, 104, 245, 238],\n",
              "       ...,\n",
              "       [190, 143, 105, 199, 184],\n",
              "       [ 69, 163,  26,  95, 137],\n",
              "       [239,  23,  24,  33,   4]])"
            ]
          },
          "metadata": {},
          "execution_count": 6
        }
      ]
    },
    {
      "cell_type": "code",
      "source": [
        "data.shape[1]"
      ],
      "metadata": {
        "colab": {
          "base_uri": "https://localhost:8080/"
        },
        "id": "QEBWyZMXbS55",
        "outputId": "d912eac0-a160-4d54-dab0-33e9958bd6ca"
      },
      "execution_count": 7,
      "outputs": [
        {
          "output_type": "execute_result",
          "data": {
            "text/plain": [
              "5"
            ]
          },
          "metadata": {},
          "execution_count": 7
        }
      ]
    },
    {
      "cell_type": "code",
      "source": [
        "data.shape[0]"
      ],
      "metadata": {
        "colab": {
          "base_uri": "https://localhost:8080/"
        },
        "id": "hkRi201Mb8CK",
        "outputId": "e126b4e0-0c12-4c16-e33a-5b75dba70352"
      },
      "execution_count": 8,
      "outputs": [
        {
          "output_type": "execute_result",
          "data": {
            "text/plain": [
              "309"
            ]
          },
          "metadata": {},
          "execution_count": 8
        }
      ]
    },
    {
      "cell_type": "code",
      "source": [
        "d = data.shape[1]        \n",
        "M = 5         \n",
        "nlist = data.shape[0]  \n",
        "nsegment = 5  \n",
        "nbit = 8       \n",
        "k=10\n",
        "coarse_quantizer = faiss.IndexHNSWFlat(d, M)\n",
        "coarse_quantizer\n",
        "#Note:- make sure that 'd' must be a multiple of 'nsegment' for e.g. \n",
        "##at first attempt i took d = 5 and nsegment = 16 it throwed me error\n",
        "##in the code below  \n",
        "##but after \n",
        "##certain attempts i figured the rel. b\\w d and nsegment.  "
      ],
      "metadata": {
        "colab": {
          "base_uri": "https://localhost:8080/"
        },
        "id": "Sc92AKOAbTAi",
        "outputId": "3d03da12-8f06-4779-f366-b43df2565dd1"
      },
      "execution_count": 16,
      "outputs": [
        {
          "output_type": "execute_result",
          "data": {
            "text/plain": [
              "<faiss.swigfaiss_avx2.IndexHNSWFlat; proxy of <Swig Object of type 'faiss::IndexHNSWFlat *' at 0x7f7482aa4810> >"
            ]
          },
          "metadata": {},
          "execution_count": 16
        }
      ]
    },
    {
      "cell_type": "code",
      "source": [
        "index = faiss.IndexIVFPQ(coarse_quantizer, d, nlist, nsegment, nbit) "
      ],
      "metadata": {
        "id": "SJUO9blNcPDL"
      },
      "execution_count": 17,
      "outputs": []
    },
    {
      "cell_type": "code",
      "source": [
        "index.train(data)"
      ],
      "metadata": {
        "id": "u0apiNrIlQ7g"
      },
      "execution_count": 18,
      "outputs": []
    },
    {
      "cell_type": "code",
      "source": [
        "index.add(data)"
      ],
      "metadata": {
        "id": "jRggUVvGmlGZ"
      },
      "execution_count": 19,
      "outputs": []
    },
    {
      "cell_type": "code",
      "source": [
        "index.nprobe = 5     \n",
        "D, I = index.search(data, k)"
      ],
      "metadata": {
        "id": "6lMjIJSFmqVR"
      },
      "execution_count": 20,
      "outputs": []
    },
    {
      "cell_type": "code",
      "source": [
        "D"
      ],
      "metadata": {
        "colab": {
          "base_uri": "https://localhost:8080/"
        },
        "id": "GBa4R2PhnbR0",
        "outputId": "1ef70451-399f-41b3-9299-56fb1be5b94f"
      },
      "execution_count": 21,
      "outputs": [
        {
          "output_type": "execute_result",
          "data": {
            "text/plain": [
              "array([[0.0000000e+00, 4.1040000e+03, 4.5170000e+03, ..., 3.4028235e+38,\n",
              "        3.4028235e+38, 3.4028235e+38],\n",
              "       [0.0000000e+00, 1.0880000e+03, 2.6730000e+03, ..., 3.4028235e+38,\n",
              "        3.4028235e+38, 3.4028235e+38],\n",
              "       [0.0000000e+00, 1.4790000e+03, 1.7490000e+03, ..., 3.4028235e+38,\n",
              "        3.4028235e+38, 3.4028235e+38],\n",
              "       ...,\n",
              "       [0.0000000e+00, 1.9560000e+03, 3.3230000e+03, ..., 3.4028235e+38,\n",
              "        3.4028235e+38, 3.4028235e+38],\n",
              "       [0.0000000e+00, 5.1980000e+03, 5.5650000e+03, ..., 3.4028235e+38,\n",
              "        3.4028235e+38, 3.4028235e+38],\n",
              "       [0.0000000e+00, 7.5800000e+02, 5.5150000e+03, ..., 3.4028235e+38,\n",
              "        3.4028235e+38, 3.4028235e+38]], dtype=float32)"
            ]
          },
          "metadata": {},
          "execution_count": 21
        }
      ]
    },
    {
      "cell_type": "code",
      "source": [
        "\n",
        "# def has_non_numeric(row):\n",
        "#     for val in row:\n",
        "#         if isinstance(val, str):\n",
        "#             return True\n",
        "#     return False\n",
        "\n",
        "# # Apply the function to each row of the dataframe\n",
        "# non_numeric = df.apply(has_non_numeric, axis=1)\n",
        "\n",
        "# # Filter the dataframe to remove rows with non-numeric values\n",
        "# df = df[~non_numeric]\n",
        "\n",
        "# # Convert the dataframe to a NumPy array\n",
        "# data = df.values"
      ],
      "metadata": {
        "id": "7MeCQVCNL-O6"
      },
      "execution_count": 22,
      "outputs": []
    },
    {
      "cell_type": "code",
      "source": [
        "# print(data)"
      ],
      "metadata": {
        "id": "cEKmrYlAZuD2"
      },
      "execution_count": 23,
      "outputs": []
    },
    {
      "cell_type": "code",
      "source": [
        "# d = data.shape[1]  # Number of columns\n",
        "# M = 5  # Number of code bits\n",
        "# nbits = 8\n",
        "# pq = faiss.ProductQuantizer(d, M, nbits)\n"
      ],
      "metadata": {
        "id": "cwtwn1S-KPUA"
      },
      "execution_count": 24,
      "outputs": []
    },
    {
      "cell_type": "code",
      "source": [
        "# pq.train(data)"
      ],
      "metadata": {
        "id": "y8x33oAILS30"
      },
      "execution_count": 25,
      "outputs": []
    },
    {
      "cell_type": "code",
      "source": [],
      "metadata": {
        "id": "R2ejCEToMMBX"
      },
      "execution_count": 25,
      "outputs": []
    }
  ]
}